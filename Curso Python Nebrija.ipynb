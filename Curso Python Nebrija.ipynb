{
 "cells": [
  {
   "cell_type": "markdown",
   "source": [
    "# Curso de Python"
   ],
   "metadata": {
    "collapsed": false
   }
  },
  {
   "cell_type": "markdown",
   "source": [
    "## Notas\n",
    "### Preparación del entorno\n",
    "#### Abrir un cmd en el directorio que queramos:\n",
    "Poner **cmd** en la barra de dirección del explorador de archivosa\n",
    "#### Crear un entorno:\n",
    "python -m venv venv\n",
    "#### Activar el entorno:\n",
    "venv/Scripts/activate (Usando la consola)\n",
    "#### Instalar librerias:\n",
    "pip install jupyterlab statistics numpy scipy pandas\n",
    "#### Compartir archivos en lan:\n",
    "En la carpeta que queramos compartir abrimos una consola y ejecutamos:\n",
    "python -m http.server\n",
    "#### Cheetset de los markdawns en jupyter:\n",
    "[Cheetset Markdown Jupyter](https://github.com/adam-p/markdown-here/wiki/Markdown-Cheatsheet)"
   ],
   "metadata": {
    "collapsed": false
   }
  },
  {
   "cell_type": "markdown",
   "source": [
    "## 1. ¿Que es python?\n",
    "- Lenguaje interpretado\n",
    "- Tipado dinámico\n",
    "- Legible\n",
    "- Multiparadigma\n",
    "-- Programación funcional\n",
    "-- Programación imperativa\n",
    "-- Programación orientada a objetos\n",
    "- Multiplataforma"
   ],
   "metadata": {
    "collapsed": false
   }
  },
  {
   "cell_type": "markdown",
   "source": [
    "# 2. Instalación de python\n",
    "[Web oficial](https://www.python.org/downloads/)\n",
    "En Windows **añadir al path** durante la instalación es posible que pida privilegios de administrador para ampliar la longitud máxima del path, aceptarlo.\n",
    "Si se nos ha olvidado añadirlo al path volver a ejecutar el instalador"
   ],
   "metadata": {
    "collapsed": false
   }
  },
  {
   "cell_type": "markdown",
   "source": [
    "# 2. Entornos de desarrollo\n",
    "**No requiere entorno de desarrollo**\n",
    "Los IDLE aportan facilidad de desarrollo y control de errores/debuggin\n",
    "## Instalación de los entornos principales\n",
    "[Pycharm](https://www.jetbrains.com/pycharm/) La versión comunity es gratuita y suficiente pero podeis acceder a la profesional mediante el [GitHub Student Pack](https://education.github.com/pack)\n",
    "[Jupyter](https://jupyter.org/)"
   ],
   "metadata": {
    "collapsed": false
   }
  },
  {
   "cell_type": "markdown",
   "source": [
    "# 2. Ejecución\n",
    "## Consola\n",
    "- Abrir el interprete de python poniendo *python* / *python3*\n",
    "-- Escribir directamente en el interprete\n",
    "- Crear un archivo de texto.py\n",
    "-- Ejecutar usando python archivo.py\n",
    "## Pycharm\n",
    "### Ejecución interactiva\n",
    "- Usando la pestaña __Python Console__\n",
    "### Ejecución en bloque\n",
    "- Abrir el archivo en Pycharm y pulsando boton derecho __Run file__\n",
    "## Jupyter\n",
    "__Shift + Enter__ Para ejecutar y saltar de celda\n",
    "__CRTL + Enter__ Para ejecutar y quedarse en la celda"
   ],
   "metadata": {
    "collapsed": false
   }
  },
  {
   "cell_type": "markdown",
   "source": [
    "# 2. Entornos virtuales\n",
    "Nos permite crear un entorno aislado dónde solo estarán instaladas las librerías que queramos y se ejecutará la version de python que elijamos. Los principales gestores de librerías/entornos virtuales son _pip_ y [_conda_](https://docs.conda.io/projects/conda/en/latest/user-guide/install/index.html)\n",
    "Pasos para crear un entorno virtual con **pip**:\n",
    "Instalar\n",
    "- pip install virtualenv (En windows) / apt-get install python-virtualenv (En linux)\n",
    "\n",
    "Crear entorno\n",
    "- virtualenv –p python3 envname / python -m venv venv\n",
    "\n",
    "Activarlo\n",
    "- venv/Scripts/activate (En windows)\n",
    "- source bin/activate (En linux)"
   ],
   "metadata": {
    "collapsed": false
   }
  },
  {
   "cell_type": "markdown",
   "source": [
    "# 3. Primeros pasos en Python 3\n",
    "\n",
    "Los programas sirven para manipular objetos(datos). Estos objetos tienen un tipo definido y le dicen al programa que puede hacer o no con un objeto.\n",
    "\n",
    "Un programa de Python se compone de:\n",
    "- Definiciones (Creacion de objetos)\n",
    "- Comandos ejecutables (Manupulación de datos)"
   ],
   "metadata": {
    "collapsed": false
   }
  },
  {
   "cell_type": "markdown",
   "source": [
    "# 3. Tipos de datos en Python\n",
    "Los tipos de datos en pythoh se divien en **Mutables** e **inmutables**\n",
    "\n",
    "## Inmutables\n",
    "------\n",
    "- Números\n",
    "- Strings\n",
    "- Booleanos\n",
    "- Tuplas\n",
    "\n",
    "## Mutables\n",
    "------\n",
    "- Listas\n",
    "- Diccionarios\n",
    "- Sets"
   ],
   "metadata": {
    "collapsed": false
   }
  },
  {
   "cell_type": "markdown",
   "source": [
    "# 3. Números"
   ],
   "metadata": {
    "collapsed": false
   }
  },
  {
   "cell_type": "code",
   "execution_count": null,
   "outputs": [],
   "source": [
    "# Números enteros\n",
    "# No tienen numero máximo ni mínimo están limitados por la memoria del sistem\n",
    "print(type(5))"
   ],
   "metadata": {
    "collapsed": false,
    "pycharm": {
     "name": "#%%\n"
    }
   }
  },
  {
   "cell_type": "code",
   "execution_count": null,
   "outputs": [],
   "source": [
    "# Números decimales\n",
    "# Tienen límites\n",
    "import sys\n",
    "\n",
    "print(type(5.0))\n",
    "print(sys.float_info)"
   ],
   "metadata": {
    "collapsed": false,
    "pycharm": {
     "name": "#%%\n"
    }
   }
  },
  {
   "cell_type": "code",
   "execution_count": null,
   "outputs": [],
   "source": [
    "# Números booleanos\n",
    "# True / False Se consideran números porque se representan como 1 y 0\n",
    "print(type(True))"
   ],
   "metadata": {
    "collapsed": false,
    "pycharm": {
     "name": "#%%\n"
    }
   }
  },
  {
   "cell_type": "code",
   "execution_count": null,
   "outputs": [],
   "source": [
    "# Números complejos\n",
    "# tienen parte real y parte imaginaria representado por **j**\n",
    "print(type(5 + 3j))"
   ],
   "metadata": {
    "collapsed": false,
    "pycharm": {
     "name": "#%%\n"
    }
   }
  },
  {
   "cell_type": "code",
   "execution_count": null,
   "outputs": [],
   "source": [
    "# Nonetype\n",
    "# Valor especial vacio\n",
    "print(type(None))"
   ],
   "metadata": {
    "collapsed": false,
    "pycharm": {
     "name": "#%%\n"
    }
   }
  },
  {
   "cell_type": "markdown",
   "source": [
    "Como habeis visto se usa la función type() para obtener el tipo de un dato."
   ],
   "metadata": {
    "collapsed": false
   }
  },
  {
   "cell_type": "markdown",
   "source": [
    "# 3. Operadores aritméticos\n",
    "Los operadores aritméticos son:\n",
    "- \\+ Suma\n",
    "- \\- Resta\n",
    "- \\* Multiplicación\n",
    "- \\\\ División\n",
    "- \\** Exponente\n",
    "- \\\\\\ División entera\n",
    "- \\% Modulo\n",
    "\n",
    "Operadores binarios\n",
    "- \\& and\n",
    "- \\| or\n",
    "- \\^ xor"
   ],
   "metadata": {
    "collapsed": false
   }
  },
  {
   "cell_type": "code",
   "execution_count": null,
   "outputs": [],
   "source": [
    "# Suma\n",
    "3 + 5"
   ],
   "metadata": {
    "collapsed": false,
    "pycharm": {
     "name": "#%%\n"
    }
   }
  },
  {
   "cell_type": "code",
   "execution_count": null,
   "outputs": [],
   "source": [
    "# Resta\n",
    "3 - 5"
   ],
   "metadata": {
    "collapsed": false,
    "pycharm": {
     "name": "#%%\n"
    }
   }
  },
  {
   "cell_type": "code",
   "execution_count": null,
   "outputs": [],
   "source": [
    "# Multiplicación\n",
    "3 * 5"
   ],
   "metadata": {
    "collapsed": false,
    "pycharm": {
     "name": "#%%\n"
    }
   }
  },
  {
   "cell_type": "code",
   "execution_count": null,
   "outputs": [],
   "source": [
    "# División\n",
    "3 / 5"
   ],
   "metadata": {
    "collapsed": false,
    "pycharm": {
     "name": "#%%\n"
    }
   }
  },
  {
   "cell_type": "code",
   "execution_count": null,
   "outputs": [],
   "source": [
    "# Exponente\n",
    "2 ** 3"
   ],
   "metadata": {
    "collapsed": false,
    "pycharm": {
     "name": "#%%\n"
    }
   }
  },
  {
   "cell_type": "code",
   "execution_count": null,
   "outputs": [],
   "source": [
    "# División entera\n",
    "5 // 3  # Devuelve un número entero"
   ],
   "metadata": {
    "collapsed": false,
    "pycharm": {
     "name": "#%%\n"
    }
   }
  },
  {
   "cell_type": "code",
   "execution_count": null,
   "outputs": [],
   "source": [
    "# Módulo\n",
    "5 % 3"
   ],
   "metadata": {
    "collapsed": false,
    "pycharm": {
     "name": "#%%\n"
    }
   }
  },
  {
   "cell_type": "code",
   "execution_count": null,
   "outputs": [],
   "source": [
    "# Operadores binarios:\n",
    "print(f'5 en binario es {bin(5)}')\n",
    "print(f'3 en binario es {bin(3)}')\n",
    "print(f'{5 & 3} {bin(5 & 3)}')  # And\n",
    "print(f'{5 | 3} {bin(5 | 3)}')  # Or\n",
    "print(f'{5 ^ 3} {bin(5 ^ 3)}')  # XOR"
   ],
   "metadata": {
    "collapsed": false,
    "pycharm": {
     "name": "#%%\n"
    }
   }
  },
  {
   "cell_type": "code",
   "execution_count": null,
   "outputs": [],
   "source": [
    "# Otras representaciones\n",
    "print(10)  # Decimal\n",
    "print(bin(10))  # Binario\n",
    "print(oct(10))  # Octal\n",
    "print(hex(10))  # Hexadecimal"
   ],
   "metadata": {
    "collapsed": false,
    "pycharm": {
     "name": "#%%\n"
    }
   }
  },
  {
   "cell_type": "code",
   "execution_count": null,
   "outputs": [],
   "source": [
    "# Números especiales\n",
    "import math\n",
    "\n",
    "print(f'Pi {math.pi}')\n",
    "print(f'e {math.e}')"
   ],
   "metadata": {
    "collapsed": false,
    "pycharm": {
     "name": "#%%\n"
    }
   }
  },
  {
   "cell_type": "markdown",
   "source": [
    "## Jerarquía de operaciones\n",
    "1. ()\n",
    "2. **\n",
    "3. *, /, //, %\n",
    "4. +, -"
   ],
   "metadata": {
    "collapsed": false
   }
  },
  {
   "cell_type": "markdown",
   "source": [
    "# 3. Asignación de variables\n",
    "Para asignar un dato a un nombre de variable se usa '='\n",
    "Lo que hace es enlazar un nombre a un dato de forma que se pueda reutilizar.\n",
    "Los nombres de los datos Deben ser una clave alfanumérica que contenga al menos 1 letra,Es sensible a mayúsculas y minúsculas y se puede utilizar _\n",
    "Debe empezar siempre por letra o _\n",
    "No se pueden usar las palabras reservadas de python:\n",
    "\n",
    "Existen diferentes convenciones de nombres:\n",
    "**Cammel case** myVariableName  Es el mas común\n",
    "**Pascal case** MyVariableName\n",
    "**Snake case** my_varible_name"
   ],
   "metadata": {
    "collapsed": false
   }
  },
  {
   "cell_type": "code",
   "execution_count": null,
   "outputs": [],
   "source": [
    "# Palabras reservadas en python\n",
    "import keyword\n",
    "\n",
    "print(keyword.kwlist)"
   ],
   "metadata": {
    "collapsed": false,
    "pycharm": {
     "name": "#%%\n"
    }
   }
  },
  {
   "cell_type": "markdown",
   "source": [
    "### Ejemplo: Calcular el area del circulo pi*r^2"
   ],
   "metadata": {
    "collapsed": false
   }
  },
  {
   "cell_type": "code",
   "execution_count": null,
   "outputs": [],
   "source": [
    "from math import pi\n",
    "\n",
    "radio = 5\n",
    "area = pi * (radio ** 2)  # Es equivalente a pi*r**2 debido a la jerarquia de operaciones pero es mas visual\n",
    "print(f'El area del circulo de radio {radio} es {area}')"
   ],
   "metadata": {
    "collapsed": false,
    "pycharm": {
     "name": "#%%\n"
    }
   }
  },
  {
   "cell_type": "markdown",
   "source": [
    "# 3. Comentarios\n",
    "Existen dos formas de realizar comentarios en Python.\n",
    "- Una linea  (Usando #)\n",
    "- Multilinea (Usando triple comilla doble/simple)"
   ],
   "metadata": {
    "collapsed": false
   }
  },
  {
   "cell_type": "code",
   "execution_count": null,
   "outputs": [],
   "source": [
    "# Este es un comentario de una línea\n",
    "'''\n",
    "Este es\n",
    "un comentario\n",
    "multilinea\n",
    "'''\n",
    "print('Se han realizado comentarios')"
   ],
   "metadata": {
    "collapsed": false,
    "pycharm": {
     "name": "#%%\n"
    }
   }
  },
  {
   "cell_type": "markdown",
   "source": [
    "# 5. Manipulación de cadenas de texto"
   ],
   "metadata": {
    "collapsed": false
   }
  },
  {
   "cell_type": "markdown",
   "source": [
    "## Asignación"
   ],
   "metadata": {
    "collapsed": false
   }
  },
  {
   "cell_type": "code",
   "execution_count": null,
   "outputs": [],
   "source": [
    "mensaje = ''  # Definimos un mensaje vaacio\n",
    "mensaje += 'Hola'  # Podemos usar cualquier operador junto al igual para realizar la operación sobre el dato original y asignarlo\n",
    "mensaje += ' '\n",
    "mensaje += 'Alfredo'\n",
    "print(mensaje)"
   ],
   "metadata": {
    "collapsed": false,
    "pycharm": {
     "name": "#%%\n"
    }
   }
  },
  {
   "cell_type": "markdown",
   "source": [
    "## Concatenación"
   ],
   "metadata": {
    "collapsed": false
   }
  },
  {
   "cell_type": "code",
   "execution_count": null,
   "outputs": [],
   "source": [
    "mensaje1 = 'Hola'\n",
    "mensaje2 = ' '\n",
    "mensaje3 = 'Alfredo'\n",
    "print(mensaje1 + mensaje2 + mensaje3)  # Podemos evaluar expresiones dentro del print"
   ],
   "metadata": {
    "collapsed": false,
    "pycharm": {
     "name": "#%%\n"
    }
   }
  },
  {
   "cell_type": "code",
   "execution_count": null,
   "outputs": [],
   "source": [
    "# No se puede asignar un string con otro tipo de dato, para ello hay que castearlo a string\n",
    "print('3 + 5 = ' + str(3 + 5))"
   ],
   "metadata": {
    "collapsed": false,
    "pycharm": {
     "name": "#%%\n"
    }
   }
  },
  {
   "cell_type": "markdown",
   "source": [
    "## Busqueda"
   ],
   "metadata": {
    "collapsed": false
   }
  },
  {
   "cell_type": "code",
   "execution_count": null,
   "outputs": [],
   "source": [
    "# Para ver los métodos que tiene disponible un tipo de objeto se usa dir\n",
    "texto = 'Hola Alfredo'\n",
    "print(dir(texto))"
   ],
   "metadata": {
    "collapsed": false,
    "pycharm": {
     "name": "#%%\n"
    }
   }
  },
  {
   "cell_type": "code",
   "execution_count": null,
   "outputs": [],
   "source": [
    "# Para realizar la busqueda se usa find\n",
    "print(texto.find(\n",
    "    'Alfredo'))  # Al ser un método del objeto se llama de la siguiente manera, devolverá la posición de inicio de la cadena buscada\n",
    "# Recordar que en python las listas, en este caso una listaa de caracteres empieza en la posicion 0"
   ],
   "metadata": {
    "collapsed": false,
    "pycharm": {
     "name": "#%%\n"
    }
   }
  },
  {
   "cell_type": "markdown",
   "source": [
    "## Extracción\n",
    "Para obtener una subcadena de un string se hace de la siguiente manera\n",
    "mensaje\\[inicio:fin\\], se puede omitir el inicio o fin y la cadena se obtendrá desde el principio o desde el final"
   ],
   "metadata": {
    "collapsed": false
   }
  },
  {
   "cell_type": "code",
   "execution_count": null,
   "outputs": [],
   "source": [
    "print(mensaje)\n",
    "print(mensaje[5:])  # De la posicion 5 al final\n",
    "print(mensaje[5:6])  # De la posicion 5 a la 8\n",
    "print(mensaje[:5])  # Del inicio hasta la posicion 5"
   ],
   "metadata": {
    "collapsed": false,
    "pycharm": {
     "name": "#%%\n"
    }
   }
  },
  {
   "cell_type": "markdown",
   "source": [
    "# 6. Entrada y salida de datos por consola\n"
   ],
   "metadata": {
    "collapsed": false
   }
  },
  {
   "cell_type": "markdown",
   "source": [
    "## Entrada\n",
    "La entrada de datos por consola se realiza mediante la función input\n",
    "Esta función siempre devolverá un objeto de tipo string.\n",
    "El cual se podrá convertir al tipo que queramos pero debemos tener en cuenta xeq el contenido del string tenga el formato del tipo destino.\n",
    "Lo qué introduzcamos dentro del input será el mensaje que se muestre por consola."
   ],
   "metadata": {
    "collapsed": false
   }
  },
  {
   "cell_type": "code",
   "execution_count": null,
   "outputs": [],
   "source": [
    "entrada = input('Introduzca lo que quiera: ')\n",
    "print(entrada)"
   ],
   "metadata": {
    "collapsed": false,
    "pycharm": {
     "name": "#%%\n"
    }
   }
  },
  {
   "cell_type": "markdown",
   "source": [
    "## Salida\n",
    "Los diferentes métodos para imprimir por consola son los siguientes"
   ],
   "metadata": {
    "collapsed": false
   }
  },
  {
   "cell_type": "code",
   "execution_count": null,
   "outputs": [],
   "source": [
    "a, b, c = 1, 2, 3\n",
    "print(a, b, c)  # Proporcionando las variables separadas por comas\n",
    "print('a = {}, b = {}, c = {}'.format(a, b, c))  # Usando la función format\n",
    "print('a = {2}, b = {1}, c = {0}'.format(a, b, c))  # Usando la función format con posiciones\n",
    "print(f'a = {a}, b = {b}, c = {c}')  # Formateo directo"
   ],
   "metadata": {
    "collapsed": false,
    "pycharm": {
     "name": "#%%\n"
    }
   }
  },
  {
   "cell_type": "markdown",
   "source": [
    "# Ejercicio\n",
    "Programar un script en Python que solicite el nombre de dos alumnos de forma separada nombre, primer apellido y segundo apellido y notas de 3 asignaturas.\n",
    "Imprimir en consola el apellido1 apellido2, nombre: Nota media\n",
    "*El que quiera puede redondear la nota (hacia arriba)"
   ],
   "metadata": {
    "collapsed": false
   }
  },
  {
   "cell_type": "code",
   "execution_count": null,
   "outputs": [],
   "source": [
    "import math\n",
    "\n",
    "print('Introduzca los siguientes datos:')\n",
    "Nombre_1 = input('Nombre del alumno 1: ')\n",
    "Apellido1_1 = input('Primer apellido: ')\n",
    "Apellido2_1 = input('Segundo apellido: ')\n",
    "\n",
    "fisica_1 = int(input('Nota en fisica: '))\n",
    "matematicas_1 = int(input('Nota en matematicas: '))\n",
    "termodinamica_1 = int(input('Nota en termodinamica: '))\n",
    "\n",
    "Nombre_2 = input('\\nNombre del alumno 2: ')\n",
    "Apellido1_2 = input('Primer apellido: ')\n",
    "Apellido2_2 = input('Segundo apellido: ')\n",
    "\n",
    "fisica_2 = int(input('Nota en fisica: '))\n",
    "matematicas_2 = int(input('Nota en matematicas: '))\n",
    "termodinamica_2 = int(input('Nota en termodinamica: '))\n",
    "\n",
    "print('\\nNota media de los alumnos:\\n')\n",
    "print(f'\\t{Apellido1_1} {Apellido2_1}, {Nombre_1}: {math.ceil((fisica_1 + matematicas_1 + termodinamica_1) / 3)}')\n",
    "print(f'\\t{Apellido1_2} {Apellido1_2}, {Nombre_2}: {((fisica_2 + matematicas_2 + termodinamica_2) / 3)}')\n",
    "print(f'\\t{Apellido1_2} {Apellido1_2}, {Nombre_2}: {math.ceil((fisica_2 + matematicas_2 + termodinamica_2) / 3)}')\n",
    "print(f'\\t{Apellido1_2} {Apellido1_2}, {Nombre_2}: {math.floor((fisica_2 + matematicas_2 + termodinamica_2) / 3)}')\n",
    "print(f'\\t{Apellido1_2} {Apellido1_2}, {Nombre_2}: {round((fisica_2 + matematicas_2 + termodinamica_2) / 3)}')"
   ],
   "metadata": {
    "collapsed": false,
    "pycharm": {
     "name": "#%%\n"
    }
   }
  },
  {
   "cell_type": "markdown",
   "source": [
    "# 7. Operadores relacionales\n",
    "Devuelven un valor booleano, Dependiendo del objeto sobre el que se apliquen pueden tener un comportamiento u otro por ejemplo en números está claro pero en el caso de comparar strings los comparará alfabéticamente\n",
    "\n",
    "- \\<    Menor que\n",
    "- \\>    Mayor que\n",
    "- \\<=   Menor o igual que\n",
    "- \\>=   Mayor o igual que\n",
    "- \\==   Igual\n",
    "- \\!=   Distinto\n",
    "\n",
    "#  Operadores lógicos\n",
    "Sirven para concatenar relaciones lógicas para formar una operación más compleja\n",
    "\n",
    "- and\n",
    "- or\n",
    "- not\n",
    "\n",
    "# Métodos boleanos\n",
    "Son aquellos métodos propios del objeto que devuelven un valor booleano dependiendo del objeto puede tener unos u otros definidos internamente además hay métodos julianos propios de Python por ejemplo el isinstance"
   ],
   "metadata": {
    "collapsed": false
   }
  },
  {
   "cell_type": "code",
   "execution_count": null,
   "outputs": [],
   "source": [
    "isinstance(5, int)"
   ],
   "metadata": {
    "collapsed": false,
    "pycharm": {
     "name": "#%%\n"
    }
   }
  },
  {
   "cell_type": "markdown",
   "source": [
    "# 8. Condicionales\n",
    "Las sentencias condicionales sirven para modificar el flujo de funcionamiento de un programa en función de una condición.\n",
    "Las sentencias condicionales son:\n",
    "- if\n",
    "- elif\n",
    "- else"
   ],
   "metadata": {
    "collapsed": false
   }
  },
  {
   "cell_type": "code",
   "execution_count": null,
   "outputs": [],
   "source": [
    "x = 5\n",
    "if x > 7:\n",
    "    print('Mayor que 7')\n",
    "elif x >= 4:  # Pasará a la siguiente condición unicamente si la anterior no se cumple\n",
    "    print('Mayor que 4')\n",
    "else:\n",
    "    print('Menor que 4')"
   ],
   "metadata": {
    "collapsed": false,
    "pycharm": {
     "name": "#%%\n"
    }
   }
  },
  {
   "cell_type": "markdown",
   "source": [
    "# Ejercicio condicionales\n",
    "Mejorar el ejercicio de las notas de los alumnos para comprobar que se ha introducido un numero (entero) y junto a la calificación poner\n",
    "(Suspenso, Aprobado, Notable, Sobresaliente)\n",
    "(<5             ,<7              ,<9           , >9)"
   ],
   "metadata": {
    "collapsed": false
   }
  },
  {
   "cell_type": "code",
   "execution_count": null,
   "outputs": [],
   "source": [
    "import math\n",
    "\n",
    "print('Introduzca los siguientes datos:')\n",
    "Nombre_1 = input('Nombre del alumno 1: ')\n",
    "Apellido1_1 = input('Primer apellido: ')\n",
    "Apellido2_1 = input('Segundo apellido: ')\n",
    "\n",
    "fisica_1 = input('Nota en fisica: ')\n",
    "if fisica_1.isdigit():\n",
    "    fisica_1 = int(fisica_1)\n",
    "else:\n",
    "    exit('Se ha introducido un valor incorrecto')\n",
    "\n",
    "matematicas_1 = input('Nota en matematicas: ')\n",
    "if matematicas_1.isdigit():\n",
    "    matematicas_1 = int(matematicas_1)\n",
    "else:\n",
    "    exit('Se ha introducido un valor incorrecto')\n",
    "\n",
    "termodinamica_1 = input('Nota en termodinamica: ')\n",
    "if termodinamica_1.isdigit():\n",
    "    termodinamica_1 = int(termodinamica_1)\n",
    "else:\n",
    "    exit('Se ha introducido un valor incorrecto')\n",
    "\n",
    "print('\\nNota media del alumno:\\n')\n",
    "nota_media = math.ceil((fisica_1 + matematicas_1 + termodinamica_1) / 3)\n",
    "if nota_media >= 9:\n",
    "    calificacion = 'Sobresaliente'\n",
    "elif 7 <= nota_media < 9:\n",
    "    calificacion = 'Notable'\n",
    "elif 5 <= nota_media < 7:\n",
    "    calificacion = 'Aprobado'\n",
    "else:\n",
    "    calificacion = 'Suspenso'\n",
    "\n",
    "print(f'\\t{Apellido1_1} {Apellido2_1}, {Nombre_1}: {nota_media} ({calificacion})')"
   ],
   "metadata": {
    "collapsed": false,
    "pycharm": {
     "name": "#%%\n"
    }
   }
  },
  {
   "cell_type": "markdown",
   "source": [
    "# 9. Listas\n",
    "Características:\n",
    "- Mantienen el orden original\n",
    "- Tipos arbitrarios\n",
    "- Se pueden indexar\n",
    "- Se pueden anidar\n",
    "- Mutables\n",
    "- Tamaño dinámico (Amplian su tamaño en memoria segun se vn añadiendo datos)"
   ],
   "metadata": {
    "collapsed": false
   }
  },
  {
   "cell_type": "code",
   "execution_count": null,
   "outputs": [],
   "source": [
    "lista = [1, 'Hola', 5.4, [1, 2, 3]]\n",
    "print(lista)"
   ],
   "metadata": {
    "collapsed": false,
    "pycharm": {
     "name": "#%%\n"
    }
   }
  },
  {
   "cell_type": "code",
   "execution_count": null,
   "outputs": [],
   "source": [
    "lista[0]  # Acceso por posicion"
   ],
   "metadata": {
    "collapsed": false,
    "pycharm": {
     "name": "#%%\n"
    }
   }
  },
  {
   "cell_type": "code",
   "execution_count": null,
   "outputs": [],
   "source": [
    "print(lista[3])\n",
    "print(lista[3][1])\n",
    "print(lista[:])  # Lista completa\n",
    "print(lista[:2])\n",
    "print(lista[1:3])\n",
    "print(lista[-1])  # Indices negativos\n",
    "print(lista[::-1])  # Lista invertida"
   ],
   "metadata": {
    "collapsed": false,
    "pycharm": {
     "name": "#%%\n"
    }
   }
  },
  {
   "cell_type": "code",
   "execution_count": null,
   "outputs": [],
   "source": [
    "# Hay que tener cuidado de no sobrepasar en el acceso el +- tamaño de la lista\n",
    "len(lista)\n",
    "# Como maximo podemos acceder a las posiciones -3 hasta 3"
   ],
   "metadata": {
    "collapsed": false,
    "pycharm": {
     "name": "#%%\n"
    }
   }
  },
  {
   "cell_type": "code",
   "execution_count": null,
   "outputs": [],
   "source": [
    "lista = [1, 'Hola', 5.4, [1, 2, 3]]\n",
    "# Modificar un dato de la lista\n",
    "print(lista)\n",
    "lista[0] = 5\n",
    "print(lista)\n",
    "lista[1:3] = ['a', 'b']\n",
    "print(lista)\n",
    "lista += [4, 5]  # Concatenar listas\n",
    "print(lista)"
   ],
   "metadata": {
    "collapsed": false,
    "pycharm": {
     "name": "#%%\n"
    }
   }
  },
  {
   "cell_type": "code",
   "execution_count": null,
   "outputs": [],
   "source": [
    "# Separar la lista en variables individuales\n",
    "l2 = [1, 2, 3]\n",
    "a, b, c = l2\n",
    "print(a, b, c)"
   ],
   "metadata": {
    "collapsed": false,
    "pycharm": {
     "name": "#%%\n"
    }
   }
  },
  {
   "cell_type": "code",
   "execution_count": null,
   "outputs": [],
   "source": [
    "# Append\n",
    "l2.append(5)\n",
    "print(l2)"
   ],
   "metadata": {
    "collapsed": false,
    "pycharm": {
     "name": "#%%\n"
    }
   }
  },
  {
   "cell_type": "code",
   "execution_count": null,
   "outputs": [],
   "source": [
    "# Extend\n",
    "l2.extend(['a', 'b'])  # Es lo mismo que +=\n",
    "print(l2)"
   ],
   "metadata": {
    "collapsed": false,
    "pycharm": {
     "name": "#%%\n"
    }
   }
  },
  {
   "cell_type": "code",
   "execution_count": null,
   "outputs": [],
   "source": [
    "# Insert (pos, dato)\n",
    "l2.insert(1, 'prueba')\n",
    "print(l2)"
   ],
   "metadata": {
    "collapsed": false,
    "pycharm": {
     "name": "#%%\n"
    }
   }
  },
  {
   "cell_type": "code",
   "execution_count": null,
   "outputs": [],
   "source": [
    "# Remove\n",
    "# Elimina el elemento por nombre\n",
    "l2.remove(1)\n",
    "print(l2)"
   ],
   "metadata": {
    "collapsed": false,
    "pycharm": {
     "name": "#%%\n"
    }
   }
  },
  {
   "cell_type": "code",
   "execution_count": null,
   "outputs": [],
   "source": [
    "# Pop\n",
    "# Elimina la posicion elegida\n",
    "l2.pop(0)\n",
    "print(l2)"
   ],
   "metadata": {
    "collapsed": false,
    "pycharm": {
     "name": "#%%\n"
    }
   }
  },
  {
   "cell_type": "markdown",
   "source": [
    "# Ejercicio listas\n",
    "Partiendo de una lista vacía vamos a realizar las siguientes operaciones:\n",
    "1. Añadir a la lista los números 1, 2, 3, 4, 5\n",
    "2. Eliminar el numero 3\n",
    "3. Guardamos la lista en una segunda lista “lista_2” para no modificar la primera\n",
    "4. Modificamos el 4 por un 8\n",
    "5. Obtenemos la media, mediana, moda de ambas listas mediante la librería statistics\n"
   ],
   "metadata": {
    "collapsed": false
   }
  },
  {
   "cell_type": "code",
   "execution_count": null,
   "outputs": [],
   "source": [
    "lista = [1, 2, 3, 4, 5]\n",
    "lista.remove(3)\n",
    "lista2 = lista\n",
    "pos = lista2.index(4)\n",
    "lista2.remove(4)\n",
    "lista2.insert(pos, 8)\n",
    "print(lista)\n",
    "print(lista2)\n",
    "# Como vemos ambas listas se han modificado debido a que es un objeto mutable"
   ],
   "metadata": {
    "collapsed": false,
    "pycharm": {
     "name": "#%%\n"
    }
   }
  },
  {
   "cell_type": "code",
   "execution_count": null,
   "outputs": [],
   "source": [
    "import copy, statistics\n",
    "\n",
    "lista = [1, 2, 3, 4, 5]\n",
    "lista.remove(3)\n",
    "# lista2 = lista[:]\n",
    "lista2 = copy.deepcopy(lista)\n",
    "pos = lista2.index(4)\n",
    "lista2.remove(4)\n",
    "lista2.insert(pos, 8)\n",
    "print(f'{lista} Media: {statistics.mean(lista)}, Mediana: {statistics.median(lista)}, Moda: {statistics.mode(lista)}')\n",
    "print(\n",
    "    f'{lista2} Media: {statistics.mean(lista2)}, Mediana: {statistics.median(lista2)}, Moda: {statistics.mode(lista2)}')\n",
    "\n",
    "# Usando copy deepcopy copiamos objeto por objeto la lista por lo que ahora si estan separadas fisicamente"
   ],
   "metadata": {
    "collapsed": false,
    "pycharm": {
     "name": "#%%\n"
    }
   }
  },
  {
   "cell_type": "markdown",
   "source": [
    "# 10. Bucle for\n",
    " Son bucles de tamaño predefinido que se pueden usar sobre cualquier objeto iterable o iterador.\n",
    " Se suelen usar sobre el objeto range"
   ],
   "metadata": {
    "collapsed": false
   }
  },
  {
   "cell_type": "code",
   "execution_count": null,
   "outputs": [],
   "source": [
    "for letter in 'Python':\n",
    "    print(letter)"
   ],
   "metadata": {
    "collapsed": false,
    "pycharm": {
     "name": "#%%\n"
    }
   }
  },
  {
   "cell_type": "code",
   "execution_count": null,
   "outputs": [],
   "source": [
    "for data in [1, 2, 3, 4]:\n",
    "    print(data)"
   ],
   "metadata": {
    "collapsed": false,
    "pycharm": {
     "name": "#%%\n"
    }
   }
  },
  {
   "cell_type": "code",
   "execution_count": null,
   "outputs": [],
   "source": [
    "print(range(5))\n",
    "print(list(range(5)))"
   ],
   "metadata": {
    "collapsed": false,
    "pycharm": {
     "name": "#%%\n"
    }
   }
  },
  {
   "cell_type": "code",
   "execution_count": null,
   "outputs": [],
   "source": [
    "# range(inicio, fin, step)\n",
    "print(range(5, 15, 2))\n",
    "print(list(range(5, 15, 2)))"
   ],
   "metadata": {
    "collapsed": false,
    "pycharm": {
     "name": "#%%\n"
    }
   }
  },
  {
   "cell_type": "code",
   "execution_count": null,
   "outputs": [],
   "source": [
    "for i in range(5, 15, 2):\n",
    "    print(i)"
   ],
   "metadata": {
    "collapsed": false,
    "pycharm": {
     "name": "#%%\n"
    }
   }
  },
  {
   "cell_type": "markdown",
   "source": [
    "# Ejercicio for\n",
    "Recorrer una lista que contiene nombres/frutas/x y crear una lista que contenga la longitud de la palabra de la lista 1"
   ],
   "metadata": {
    "collapsed": false
   }
  },
  {
   "cell_type": "code",
   "execution_count": null,
   "outputs": [],
   "source": [
    "frutas = ['pera', 'manzana', 'sandia']\n",
    "longitudes = []\n",
    "for fruta in frutas:\n",
    "    longitudes.append(len(fruta))\n",
    "print(longitudes)"
   ],
   "metadata": {
    "collapsed": false,
    "pycharm": {
     "name": "#%%\n"
    }
   }
  },
  {
   "cell_type": "markdown",
   "source": [
    "# Ejercicio: Recorrer dos listas simultaneamente"
   ],
   "metadata": {
    "collapsed": false
   }
  },
  {
   "cell_type": "code",
   "execution_count": null,
   "outputs": [],
   "source": [
    "for i in range(len(frutas)):\n",
    "    print(frutas[i], longitudes[i])"
   ],
   "metadata": {
    "collapsed": false,
    "pycharm": {
     "name": "#%%\n"
    }
   }
  },
  {
   "cell_type": "code",
   "execution_count": null,
   "outputs": [],
   "source": [
    "for fruta, longitud in zip(frutas, longitudes):\n",
    "    print(fruta, longitud)"
   ],
   "metadata": {
    "collapsed": false,
    "pycharm": {
     "name": "#%%\n"
    }
   }
  },
  {
   "cell_type": "code",
   "execution_count": null,
   "outputs": [],
   "source": [
    "for index, valor in enumerate(frutas):\n",
    "    print(valor, longitudes[index])"
   ],
   "metadata": {
    "collapsed": false,
    "pycharm": {
     "name": "#%%\n"
    }
   }
  },
  {
   "cell_type": "markdown",
   "source": [
    "# 9. Tuplas\n",
    "- Inmutables\n",
    "- Mas eficientes que las listas\n",
    "- Anidadas\n",
    "- Permiten devolver mass de un objeto en una función\n",
    "\n",
    "Su manipulación se realiza de la misma forma que las listas"
   ],
   "metadata": {
    "collapsed": false
   }
  },
  {
   "cell_type": "code",
   "execution_count": null,
   "outputs": [],
   "source": [
    "# Ejemplo\n",
    "# tenemos un array de coordenadas\n",
    "coordenadas = [(0, 0), (1, 1), (2, 2), (3, 3)]\n",
    "# Podemos recorrerlo facilmente con un for\n",
    "for x, y in coordenadas:\n",
    "    print(x, y)"
   ],
   "metadata": {
    "collapsed": false,
    "pycharm": {
     "name": "#%%\n"
    }
   }
  },
  {
   "cell_type": "code",
   "execution_count": null,
   "outputs": [],
   "source": [
    "# Para crear una tupla con un solo objeto se hace de la siguiente manera\n",
    "t1 = (1)  # Esto es incorrecto\n",
    "print(type(t1))\n",
    "t2 = (1,)\n",
    "print(type(t2))"
   ],
   "metadata": {
    "collapsed": false,
    "pycharm": {
     "name": "#%%\n"
    }
   }
  },
  {
   "cell_type": "markdown",
   "source": [
    "# Ejercicio tuplas\n",
    "Partiendo de las matrices A y B\n",
    "Multiplicarlas"
   ],
   "metadata": {
    "collapsed": false
   }
  },
  {
   "cell_type": "code",
   "execution_count": null,
   "outputs": [],
   "source": [
    "a = ((1, 2, 3),\n",
    "     (4, 5, 6))\n",
    "\n",
    "b = ((-1, 0),\n",
    "     (0, 1),\n",
    "     (1, 1))\n",
    "result = [[0, 0],\n",
    "          [0, 0]]\n",
    "for i in range(len(a)):\n",
    "    for j in range(len(b[0])):\n",
    "        for k in range(len(b)):\n",
    "            result[i][j] += a[i][k] * b[k][j]\n",
    "print(result)"
   ],
   "metadata": {
    "collapsed": false,
    "pycharm": {
     "name": "#%%\n"
    }
   }
  },
  {
   "cell_type": "code",
   "execution_count": null,
   "outputs": [],
   "source": [
    "for i in range(len(result)):\n",
    "    result[i] = tuple(result[i])\n",
    "result = tuple(result)\n",
    "print(result)"
   ],
   "metadata": {
    "collapsed": false,
    "pycharm": {
     "name": "#%%\n"
    }
   }
  },
  {
   "cell_type": "markdown",
   "source": [
    "# 9. Diccionarios\n",
    "Los diccionarios son colecciones de elementos clave valor\n",
    "- No son ordenados\n",
    "- Mutables\n",
    "- Dinámicos\n",
    "- Indexados (Por clave)\n",
    "- Anidados"
   ],
   "metadata": {
    "collapsed": false
   }
  },
  {
   "cell_type": "code",
   "execution_count": null,
   "outputs": [],
   "source": [
    "# Formas de crear un diccionario\n",
    "d = {\n",
    "    'Nombre': 'Alfredo',\n",
    "    'Apellidos': {\n",
    "        'P.Apellido': 'Valle',\n",
    "        'S.Apellido': 'Barrio'\n",
    "    }\n",
    "}\n",
    "d = dict([('Nombre', 'Alfredo'), ('Apellidos', {\n",
    "    'P.Apellido': 'Valle',\n",
    "    'S.Apellido': 'Barrio'\n",
    "})])\n",
    "print(d)"
   ],
   "metadata": {
    "collapsed": false,
    "pycharm": {
     "name": "#%%\n"
    }
   }
  },
  {
   "cell_type": "code",
   "execution_count": null,
   "outputs": [],
   "source": [
    "# Acceder a un elemento\n",
    "print(d['Nombre'])\n",
    "print(d.get('Nombre'))"
   ],
   "metadata": {
    "collapsed": false,
    "pycharm": {
     "name": "#%%\n"
    }
   }
  },
  {
   "cell_type": "code",
   "execution_count": null,
   "outputs": [],
   "source": [
    "print(d.get('Direccion', d.get('Nombre')))  # El get permite definir que hacer en caso de que no se encuentre la clave"
   ],
   "metadata": {
    "collapsed": false,
    "pycharm": {
     "name": "#%%\n"
    }
   }
  },
  {
   "cell_type": "code",
   "execution_count": null,
   "outputs": [],
   "source": [
    "# Modificar un elemento\n",
    "d['Nombre'] = 'Pepe'\n",
    "print(d)"
   ],
   "metadata": {
    "collapsed": false,
    "pycharm": {
     "name": "#%%\n"
    }
   }
  },
  {
   "cell_type": "code",
   "execution_count": null,
   "outputs": [],
   "source": [
    "# Iterar sobre diccionarios\n",
    "for key in d.keys():\n",
    "    print(key)\n",
    "print()\n",
    "for value in d.values():\n",
    "    print(value)\n",
    "print()\n",
    "for key, valor in d.items():\n",
    "    print(key, valor)"
   ],
   "metadata": {
    "collapsed": false,
    "pycharm": {
     "name": "#%%\n"
    }
   }
  },
  {
   "cell_type": "markdown",
   "source": [
    "# Ejercicio: Cifrado del cesar"
   ],
   "metadata": {
    "collapsed": false
   }
  },
  {
   "cell_type": "code",
   "execution_count": null,
   "outputs": [],
   "source": [
    "import string\n",
    "\n",
    "# Definimos el alfabeto\n",
    "alfabeto = string.ascii_letters\n",
    "\n",
    "# Guardamos el mensaje cifrado\n",
    "mensaje_cifrado = 'GnjsAjsnitxFqHzwxtIjUDymTS'\n",
    "\n",
    "# Guardamos en un diccionario las letras del mensaje cifrado\n",
    "count_letters = {}\n",
    "for letter in mensaje_cifrado:\n",
    "    if letter in alfabeto:\n",
    "        if letter in count_letters.keys():\n",
    "            count_letters[letter] += 1\n",
    "        else:\n",
    "            count_letters[letter] = 1\n",
    "print(count_letters)\n",
    "\n",
    "# Vemos que letra tiene mas repeticiones\n",
    "letraRepetida = None\n",
    "maximum = 0\n",
    "for letter in count_letters:\n",
    "    if count_letters[letter] > maximum:\n",
    "        maximum = count_letters[letter]\n",
    "        letraRepetida = letter\n",
    "print(letraRepetida, maximum)\n",
    "\n",
    "# Otra opcion\n",
    "\n",
    "maxRepeticiones = max(count_letters.values())\n",
    "for key, value in count_letters.items():\n",
    "    if value == maxRepeticiones:\n",
    "        letraRepetida = key\n",
    "print(letraRepetida, maxRepeticiones)\n",
    "\n",
    "# Sabiendo que la letra mas repetida en el español es la e\n",
    "# Encontramos el desplazamiento en el alfabeto\n",
    "diff = (alfabeto.find(letraRepetida) - alfabeto.find('e')) % len(alfabeto)\n",
    "# Desciframos el mensaje\n",
    "mensaje_descifrado = ''\n",
    "for letra in mensaje_cifrado:\n",
    "    mensaje_descifrado += alfabeto[(alfabeto.find(letra) - diff)]\n",
    "print(mensaje_descifrado)"
   ],
   "metadata": {
    "collapsed": false,
    "pycharm": {
     "name": "#%%\n"
    }
   }
  },
  {
   "cell_type": "markdown",
   "source": [
    "# 9. Sets\n",
    "Los sets son similares a las listas con la salvedad de que sus elementos son únicos no permite repeticiones.\n",
    "\n",
    "- Mutable\n",
    "- Desordenados\n",
    "- No permite repetición de datos\n",
    "- Solo admite datos inmutables\n",
    "- No indexados / si iterables"
   ],
   "metadata": {
    "collapsed": false
   }
  },
  {
   "cell_type": "code",
   "execution_count": null,
   "outputs": [],
   "source": [
    "# Creacion\n",
    "print(set([1, 2, 3, 4]))  # A partir de una lista\n",
    "print({1, 2, 3, 4})  # Definicion  directa"
   ],
   "metadata": {
    "collapsed": false,
    "pycharm": {
     "name": "#%%\n"
    }
   }
  },
  {
   "cell_type": "code",
   "execution_count": null,
   "outputs": [],
   "source": [
    "# Su uso principal es para trabajar con conjuntos de datos ya que cuentan con funciones muy útiles para ello\n",
    "set_pares = set(range(-50, 50, 2))\n",
    "set_impares = set(range(-49, 50, 2))\n",
    "set_impares.add(0)"
   ],
   "metadata": {
    "collapsed": false,
    "pycharm": {
     "name": "#%%\n"
    }
   }
  },
  {
   "cell_type": "code",
   "execution_count": null,
   "outputs": [],
   "source": [
    "todos = set_pares.union(set_impares)\n",
    "print(len(todos))\n",
    "inter = set_pares.intersection(set_impares)\n",
    "print(inter)"
   ],
   "metadata": {
    "collapsed": false,
    "pycharm": {
     "name": "#%%\n"
    }
   }
  },
  {
   "cell_type": "code",
   "execution_count": null,
   "outputs": [],
   "source": [
    "# También existen los frozen set que son sets de tipo inmutable con el objetivo de ser 1 de los objetos incluidos en un set\n",
    "s = {1, 2, frozenset([3, 4, 5])}\n",
    "print(s)"
   ],
   "metadata": {
    "collapsed": false,
    "pycharm": {
     "name": "#%%\n"
    }
   }
  },
  {
   "cell_type": "markdown",
   "source": [
    "# 10. While\n",
    "Permite ejecutar un fragmento de código de forma indefinida mientras no se cumpla la condición de parada"
   ],
   "metadata": {
    "collapsed": false
   }
  },
  {
   "cell_type": "code",
   "execution_count": null,
   "outputs": [],
   "source": [
    "import time\n",
    "\n",
    "t = 5\n",
    "while t > 0:\n",
    "    print(t)\n",
    "    t -= 1\n",
    "    time.sleep(1)\n",
    "else:\n",
    "    print('Se acabó el tiempo')\n"
   ],
   "metadata": {
    "collapsed": false,
    "pycharm": {
     "name": "#%%\n"
    }
   }
  },
  {
   "cell_type": "markdown",
   "source": [
    "# Ejercicio: Fibonacci\n",
    "Hacer un script que pida un número al usuario e imprima la sucesión de Fibonacci hasta dicho número. *Sin pasarse el número introducido."
   ],
   "metadata": {
    "collapsed": false
   }
  },
  {
   "cell_type": "code",
   "execution_count": null,
   "outputs": [],
   "source": [
    "a, b = 0, 1\n",
    "while b < 25:\n",
    "    print(b)\n",
    "    a, b = b, a + b"
   ],
   "metadata": {
    "collapsed": false,
    "pycharm": {
     "name": "#%%\n"
    }
   }
  },
  {
   "cell_type": "code",
   "execution_count": null,
   "outputs": [],
   "source": [
    "f = [0, 1]\n",
    "next_number = f[-1] + f[-2]\n",
    "while next_number < 25:\n",
    "    f.append(next_number)\n",
    "    next_number = f[-1] + f[-2]\n",
    "print(f)"
   ],
   "metadata": {
    "collapsed": false,
    "pycharm": {
     "name": "#%%\n"
    }
   }
  },
  {
   "cell_type": "code",
   "execution_count": null,
   "outputs": [],
   "source": [
    "# Si lo hacemos de esta manera se pasa del valor límite definido\n",
    "f = [0, 1]\n",
    "while f[-1] < 25:\n",
    "    f.append(f[-1] + f[-2])\n",
    "print(f)"
   ],
   "metadata": {
    "collapsed": false,
    "pycharm": {
     "name": "#%%\n"
    }
   }
  },
  {
   "cell_type": "markdown",
   "source": [
    "# 10. Operaciones especiales con bucles\n",
    "- brake (Sale del bucle) (Si estan anidados solo sale del bucle actual)\n",
    "- pass (Sirve para rellenar el bloque de codigo cuando aun no se ha definido su funcionamiento o no queremos hacer nada)\n",
    "- continue (Salta a la siguiente iteración del bucle)"
   ],
   "metadata": {
    "collapsed": false
   }
  },
  {
   "cell_type": "code",
   "execution_count": null,
   "outputs": [],
   "source": [
    "# Ejemplo brake en un for\n",
    "for i in range(10):\n",
    "    print(i)\n",
    "    if i > 5:\n",
    "        break"
   ],
   "metadata": {
    "collapsed": false,
    "pycharm": {
     "name": "#%%\n"
    }
   }
  },
  {
   "cell_type": "code",
   "execution_count": null,
   "outputs": [],
   "source": [
    "# Ejemplo brake en un while\n",
    "i = 0\n",
    "while i < 10:\n",
    "    i += 1\n",
    "    print(i)\n",
    "    if i > 5:\n",
    "        break\n",
    "else:\n",
    "    print('FIn del bucle')  # No se ejecuta al haber salido usando un brake\n",
    "print('Fuera')"
   ],
   "metadata": {
    "collapsed": false,
    "pycharm": {
     "name": "#%%\n"
    }
   }
  },
  {
   "cell_type": "code",
   "execution_count": null,
   "outputs": [],
   "source": [
    "# Ejemplo de uso de pass\n",
    "i = 6\n",
    "if i == 3:\n",
    "    print('asdgv')\n",
    "elif i == 10:\n",
    "    pass"
   ],
   "metadata": {
    "collapsed": false,
    "pycharm": {
     "name": "#%%\n"
    }
   }
  },
  {
   "cell_type": "code",
   "execution_count": null,
   "outputs": [],
   "source": [
    "# Ejemplo de uso del continue en un for\n",
    "for i in range(10):\n",
    "    if i % 2 == 0:\n",
    "        continue\n",
    "    else:\n",
    "        print('Impar')\n",
    "    print(f'Bucle {i}')"
   ],
   "metadata": {
    "collapsed": false,
    "pycharm": {
     "name": "#%%\n"
    }
   }
  },
  {
   "cell_type": "code",
   "execution_count": null,
   "outputs": [],
   "source": [
    "# Ejemplo de uso del continue en un while\n",
    "i = 0\n",
    "while i < 10:\n",
    "    i += 1\n",
    "    if 8 >= i >= 5:\n",
    "        continue\n",
    "    print(i)\n",
    "else:\n",
    "    print('FIn del bucle')\n",
    "print('Fuera')"
   ],
   "metadata": {
    "collapsed": false,
    "pycharm": {
     "name": "#%%\n"
    }
   }
  },
  {
   "cell_type": "markdown",
   "source": [
    "# Ejercicio: Modificar el ejercicio de los alumnos con un while\n",
    "Solicitar cada nota usando un wild de forma que se siga solicitando hasta que se introduzca una nota correcta."
   ],
   "metadata": {
    "collapsed": false
   }
  },
  {
   "cell_type": "code",
   "execution_count": null,
   "outputs": [],
   "source": [
    "import math\n",
    "\n",
    "print('Introduzca los siguientes datos:')\n",
    "Nombre_1 = input('Nombre del alumno 1: ')\n",
    "Apellido1_1 = input('Primer apellido: ')\n",
    "Apellido2_1 = input('Segundo apellido: ')\n",
    "\n",
    "#fisica_1 = input('Nota en fisica: ')\n",
    "fisica_1 = ''\n",
    "while not fisica_1.isdigit():\n",
    "    fisica_1 = input('Nota en fisica: ')\n",
    "print('Se ha guardado la nota de fisica')\n",
    "fisica_1 = int(fisica_1)\n",
    "\n",
    "matematicas_1 = input('Nota en matematicas: ')\n",
    "while not matematicas_1.isdigit():\n",
    "    matematicas_1 = input('Nota en matematicas: ')\n",
    "else:\n",
    "    print('Se ha guardado la nota de matematicas')\n",
    "    matematicas_1 = int(matematicas_1)\n",
    "\n",
    "termodinamica_1 = input('Nota en termodinamica: ')\n",
    "while not termodinamica_1.isdigit():\n",
    "    termodinamica_1 = input('Nota en termodinamica: ')\n",
    "else:\n",
    "    print('Se ha guardado la nota de termodinamica')\n",
    "    termodinamica_1 = int(termodinamica_1)\n",
    "\n",
    "print('\\nNota media del alumno:\\n')\n",
    "nota_media = math.ceil((fisica_1 + matematicas_1 + termodinamica_1) / 3)\n",
    "if nota_media >= 9:\n",
    "    calificacion = 'Sobresaliente'\n",
    "elif 7 <= nota_media < 9:\n",
    "    calificacion = 'Notable'\n",
    "elif 5 <= nota_media < 7:\n",
    "    calificacion = 'Aprobado'\n",
    "else:\n",
    "    calificacion = 'Suspenso'\n",
    "\n",
    "print(f'\\t{Apellido1_1} {Apellido2_1}, {Nombre_1}: {nota_media} ({calificacion})')"
   ],
   "metadata": {
    "collapsed": false,
    "pycharm": {
     "name": "#%%\n"
    }
   }
  },
  {
   "cell_type": "markdown",
   "source": [
    "# 11. Persistencia de datos\n",
    "But los archivos permiten que podamos guardar datos para ejecuciones posteriores o usar datos ya guardados en un archivo para usarlos en nuestro código\n",
    "\n",
    "## Lectura\n",
    "------\n",
    "\n",
    "El contenido de un fichero puede ser de cualquier tipo lo más habitual es que sea un fichero de texto pero también podría ser binario CSV o con formatos con como JSON o YAML.\n",
    "\n",
    "Abrir:\n",
    "- open() La función open nos dará una instancia al fichero que por defecto se abrirá en modo lectura.\n",
    "\n",
    "Lectura:\n",
    "- read() Esta función permite leer el fichero completo, No se debe utilizar en ficheros grandes ya que podemos bloquear el ordenador.\n",
    "- readline() Esta función lee una única de línea de fichero\n",
    "- readlines() Esta función realiza una lectura completa de todo el fichero línea por línea hasta que encuentra el final del fichero y nos devuelve un iterador.\n",
    "\n",
    "Cierre:\n",
    "- close() Es muy importante cerrar el fichero al terminar de utilizarlo ya que si no queda bloqueado para otras lecturas podemos evitarnos este paso usando la función with.\n",
    "\n",
    "\n",
    "## Escritura\n",
    "------\n",
    "Si queremos escribir en un fichero debemos abrirlo en modo escritura para ello debemos añadir parámetros a la función open.\n",
    "Re el parámetro más habitual de escritura es 'w' pero también podemos hacer uso del parámetro 'a' para añadir contenido del fichero y no sobre escribirlo.\n",
    "[Parametros](https://www.programiz.com/python-programming/methods/built-in/open)\n",
    "\n",
    "Funciones:\n",
    "- write() Esta función nos permite escribir en el fichero no añade salto de linea al final por lo que si escribimos si queremos escribir varias líneas debemos añadirlo manualmente\n",
    "- writelines() Esta función nos permite escribir varias líneas a la vez introduciéndolas en forma de lista de la misma forma no añade salto de linea al final\n",
    "\n",
    "Por último no debemos olvidar cerrar el fichero, es especialmente importante en la escritura ya que es cuando Python carga realmente el contenido en la memoria si no se realiza el contenido escrito podría perderse"
   ],
   "metadata": {
    "collapsed": false
   }
  },
  {
   "cell_type": "code",
   "execution_count": null,
   "outputs": [],
   "source": [
    "help(open)"
   ],
   "metadata": {
    "collapsed": false,
    "pycharm": {
     "name": "#%%\n"
    }
   }
  },
  {
   "cell_type": "code",
   "execution_count": null,
   "outputs": [],
   "source": [
    "# Ejemplo lectura\n",
    "file = open('lectura.txt')\n",
    "for line in file.readlines():\n",
    "    print(line)\n",
    "file.close()"
   ],
   "metadata": {
    "collapsed": false,
    "pycharm": {
     "name": "#%%\n"
    }
   }
  },
  {
   "cell_type": "code",
   "execution_count": null,
   "outputs": [],
   "source": [
    "# Ejemplo de lectura con with\n",
    "with open('lectura.txt') as f:\n",
    "    for line in f.readlines():\n",
    "        print(line)"
   ],
   "metadata": {
    "collapsed": false,
    "pycharm": {
     "name": "#%%\n"
    }
   }
  },
  {
   "cell_type": "code",
   "execution_count": null,
   "outputs": [],
   "source": [
    "# Ejemplo de lectura con with y con gestion automática del fichero\n",
    "with open('lectura.txt') as f:\n",
    "    for line in f:\n",
    "        print(line)"
   ],
   "metadata": {
    "collapsed": false,
    "pycharm": {
     "name": "#%%\n"
    }
   }
  },
  {
   "cell_type": "code",
   "execution_count": null,
   "outputs": [],
   "source": [
    "# Ejemplo escritura\n",
    "\n",
    "with open('escritura.txt', 'w') as file:\n",
    "    for i in range(5):\n",
    "        file.write(f'Linea {i}\\n')"
   ],
   "metadata": {
    "collapsed": false,
    "pycharm": {
     "name": "#%%\n"
    }
   }
  },
  {
   "cell_type": "code",
   "execution_count": null,
   "outputs": [],
   "source": [
    "# Creacion del fichero replace\n",
    "with open('replace.txt', 'w') as file:\n",
    "    for i in range(5):\n",
    "        file.write(f'Linea {i}\\n')"
   ],
   "metadata": {
    "collapsed": false,
    "pycharm": {
     "name": "#%%\n"
    }
   }
  },
  {
   "cell_type": "markdown",
   "source": [
    "# Ejercicio\n",
    "\n",
    "Partiendo del fichero replace.txt que tiene el siguiente formato:\n",
    "Linea 1\n",
    "Linea 2\n",
    "Linea 3…\n",
    "Hacer un script en Python que reemplace las líneas que contengan un numero par por el texto ‘esta línea es par’\n"
   ],
   "metadata": {
    "collapsed": false
   }
  },
  {
   "cell_type": "code",
   "execution_count": null,
   "outputs": [],
   "source": [
    "modificacion = \"\"\n",
    "with open(\"replace.txt\") as file:\n",
    "    for line in file:\n",
    "        line = line.strip()\n",
    "        linea = line.split(' ')\n",
    "        if int(linea[-1]) % 2 == 0:\n",
    "            modificacion += 'Esta linea es par\\n'\n",
    "        else:\n",
    "            modificacion += line + '\\n'\n",
    "\n",
    "fout = open(\"replace.txt\", \"w\")\n",
    "fout.write(modificacion)\n",
    "fout.close()"
   ],
   "metadata": {
    "collapsed": false,
    "pycharm": {
     "name": "#%%\n"
    }
   }
  },
  {
   "cell_type": "markdown",
   "source": [
    "# 12. Definicion de funciones\n",
    "Las funciones son agrupaciones de codigo que permiten que sean utilizadas y reducir la redundancia del codigo."
   ],
   "metadata": {
    "collapsed": false
   }
  },
  {
   "cell_type": "code",
   "execution_count": null,
   "outputs": [],
   "source": [
    "def suma(a, b):\n",
    "    mysum = a + b\n",
    "    return mysum"
   ],
   "metadata": {
    "collapsed": false,
    "pycharm": {
     "name": "#%%\n"
    }
   }
  },
  {
   "cell_type": "code",
   "execution_count": null,
   "outputs": [],
   "source": [
    "suma(10, 20)"
   ],
   "metadata": {
    "collapsed": false,
    "pycharm": {
     "name": "#%%\n"
    }
   }
  },
  {
   "cell_type": "markdown",
   "source": [
    "Los nombres de variables creados y utilizados en una función tinen validez local, no existen fuera de la funcion. Para modificar un dato global desde dentro de la función se usa la palabra global"
   ],
   "metadata": {
    "collapsed": false
   }
  },
  {
   "cell_type": "code",
   "execution_count": null,
   "outputs": [],
   "source": [
    "var_global = 5\n",
    "\n",
    "\n",
    "def mod(a):\n",
    "    global var_global\n",
    "    var_global = a\n",
    "\n",
    "\n",
    "mod(20)\n",
    "print(var_global)"
   ],
   "metadata": {
    "collapsed": false,
    "pycharm": {
     "name": "#%%\n"
    }
   }
  },
  {
   "cell_type": "markdown",
   "source": [
    "## Return\n",
    "Para devolver mas de un valor de una función se hace de la siguiente manera:"
   ],
   "metadata": {
    "collapsed": false
   }
  },
  {
   "cell_type": "code",
   "execution_count": null,
   "outputs": [],
   "source": [
    "def sumayresta(a, b):\n",
    "    suma = a + b\n",
    "    resta = a - b\n",
    "    return (suma, resta)  # Esto es equivalente a no poner parentesis"
   ],
   "metadata": {
    "collapsed": false,
    "pycharm": {
     "name": "#%%\n"
    }
   }
  },
  {
   "cell_type": "code",
   "execution_count": null,
   "outputs": [],
   "source": [
    "s, r = sumayresta(20, 10)\n",
    "print(s, r)"
   ],
   "metadata": {
    "collapsed": false,
    "pycharm": {
     "name": "#%%\n"
    }
   }
  },
  {
   "cell_type": "markdown",
   "source": [
    "## Instancia a una funcion\n",
    "Cuando llamamos a una funcion no necesariamente tenemos que ejecutarla, podemos hacer referencia a una estancia de función para usarla en otro punto"
   ],
   "metadata": {
    "collapsed": false
   }
  },
  {
   "cell_type": "code",
   "execution_count": null,
   "outputs": [],
   "source": [
    "print('Esto es una instancia', sumayresta)\n",
    "funcion = sumayresta  # Asignado la instancia a otro nombre\n",
    "funcion(20, 10)"
   ],
   "metadata": {
    "collapsed": false,
    "pycharm": {
     "name": "#%%\n"
    }
   }
  },
  {
   "cell_type": "markdown",
   "source": [
    "## Argumentos\n",
    "En la llamada a una función los argumentos de una función se asocian por posición.\n",
    "\n",
    "## Argumentos mutables\n",
    "Debbemos tener cuidado al pasar como argumento un dato mutable como veremos en el siguiente ejemplo"
   ],
   "metadata": {
    "collapsed": false
   }
  },
  {
   "cell_type": "code",
   "execution_count": null,
   "outputs": [],
   "source": [
    "def modify(lista_local):\n",
    "    for i in range(len(lista_local)):\n",
    "        lista_local[i] += 1"
   ],
   "metadata": {
    "collapsed": false,
    "pycharm": {
     "name": "#%%\n"
    }
   }
  },
  {
   "cell_type": "code",
   "execution_count": null,
   "outputs": [],
   "source": [
    "l = [1, 3, 5, 7]\n",
    "print('Lista original', l)\n",
    "modify(l)\n",
    "print('Lista modificada', l)  # La lista original queda modificada al ser mutable"
   ],
   "metadata": {
    "collapsed": false,
    "pycharm": {
     "name": "#%%\n"
    }
   }
  },
  {
   "cell_type": "code",
   "execution_count": null,
   "outputs": [],
   "source": [
    "l = [1, 3, 5, 7]\n",
    "print('Lista original', l)\n",
    "modify(l[:])\n",
    "print('Lista modificada', l)  # La lista original no se ha modificado ya que hemos pasado el contenido y no el objeto"
   ],
   "metadata": {
    "collapsed": false,
    "pycharm": {
     "name": "#%%\n"
    }
   }
  },
  {
   "cell_type": "markdown",
   "source": [
    "## Return\n",
    "Debemos tener cuidado de donde ponemos el return ya que el return finalizara la función y podemos obtener comportamientos inesperados"
   ],
   "metadata": {
    "collapsed": false
   }
  },
  {
   "cell_type": "code",
   "execution_count": null,
   "outputs": [],
   "source": [
    "def rsuma(n):\n",
    "    rsum = 0\n",
    "    for i in range(n):\n",
    "        rsum += i\n",
    "        return rsum"
   ],
   "metadata": {
    "collapsed": false,
    "pycharm": {
     "name": "#%%\n"
    }
   }
  },
  {
   "cell_type": "code",
   "execution_count": null,
   "outputs": [],
   "source": [
    "rsuma(5)  # Vemos que el resultado no es el esperado"
   ],
   "metadata": {
    "collapsed": false,
    "pycharm": {
     "name": "#%%\n"
    }
   }
  },
  {
   "cell_type": "code",
   "execution_count": null,
   "outputs": [],
   "source": [
    "def rsuma(n):\n",
    "    rsum = 0\n",
    "    for i in range(n):\n",
    "        rsum += i\n",
    "    return rsum"
   ],
   "metadata": {
    "collapsed": false,
    "pycharm": {
     "name": "#%%\n"
    }
   }
  },
  {
   "cell_type": "code",
   "execution_count": null,
   "outputs": [],
   "source": [
    "rsuma(5)  # Ahora el resultado si es el esperado"
   ],
   "metadata": {
    "collapsed": false,
    "pycharm": {
     "name": "#%%\n"
    }
   }
  },
  {
   "cell_type": "markdown",
   "source": [
    "Podemos tener varios return en una función Ej:"
   ],
   "metadata": {
    "collapsed": false
   }
  },
  {
   "cell_type": "code",
   "execution_count": null,
   "outputs": [],
   "source": [
    "def ispar(n):\n",
    "    if n % 2 == 0:\n",
    "        return 'par'\n",
    "    else:\n",
    "        return 'impar'"
   ],
   "metadata": {
    "collapsed": false,
    "pycharm": {
     "name": "#%%\n"
    }
   }
  },
  {
   "cell_type": "code",
   "execution_count": null,
   "outputs": [],
   "source": [
    "ispar(5)"
   ],
   "metadata": {
    "collapsed": false,
    "pycharm": {
     "name": "#%%\n"
    }
   }
  },
  {
   "cell_type": "markdown",
   "source": [
    "# Ejercicio\n",
    "Generador de contraseñas"
   ],
   "metadata": {
    "collapsed": false
   }
  },
  {
   "cell_type": "code",
   "execution_count": null,
   "outputs": [],
   "source": [
    "import string, random\n",
    "\n",
    "\n",
    "def password(longitud):\n",
    "    password = str()\n",
    "    alfabeto = string.ascii_letters + string.digits\n",
    "    # print(alfabeto)\n",
    "    for i in range(longitud):\n",
    "        password += random.choice(alfabeto)\n",
    "    return password\n",
    "\n",
    "\n",
    "print(password(10))"
   ],
   "metadata": {
    "collapsed": false,
    "pycharm": {
     "name": "#%%\n"
    }
   }
  },
  {
   "cell_type": "markdown",
   "source": [
    "# Argumentos por defecto\n"
   ],
   "metadata": {
    "collapsed": false
   }
  },
  {
   "cell_type": "code",
   "execution_count": null,
   "outputs": [],
   "source": [
    "import string, random\n",
    "\n",
    "\n",
    "def password(longitud=5):\n",
    "    password = str()\n",
    "    alfabeto = string.ascii_letters + string.digits\n",
    "    # print(alfabeto)\n",
    "    for i in range(longitud):\n",
    "        password += random.choice(alfabeto)\n",
    "    return password\n",
    "\n",
    "\n",
    "print(password())"
   ],
   "metadata": {
    "collapsed": false,
    "pycharm": {
     "name": "#%%\n"
    }
   }
  },
  {
   "cell_type": "markdown",
   "source": [
    "# Anotaciones en argumentos"
   ],
   "metadata": {
    "collapsed": false
   }
  },
  {
   "cell_type": "code",
   "execution_count": null,
   "outputs": [],
   "source": [
    "import string, random\n",
    "\n",
    "\n",
    "def password(\n",
    "        longitud: int = 5):  # Las anotaciones no tienen una funcion específica unicamente permiten que el ide sepa el tipo de dato para facilitar la programación\n",
    "    password = str()\n",
    "    alfabeto = string.ascii_letters + string.digits\n",
    "    # print(alfabeto)\n",
    "    for i in range(longitud):\n",
    "        password += random.choice(alfabeto)\n",
    "    return password\n",
    "\n",
    "\n",
    "print(password())"
   ],
   "metadata": {
    "collapsed": false,
    "pycharm": {
     "name": "#%%\n"
    }
   }
  },
  {
   "cell_type": "markdown",
   "source": [
    "# Argumentos múltiples\n",
    "Ya hemos visto como pasar mas de un argumento en una funcion con el ejemplo de la suma.\n",
    "Pero también se pueden definir un número indefinido de argumentos\n",
    "\n",
    "## *args\n",
    "---\n",
    "Usar la palabra args es simplemente una convención lo importante es el *"
   ],
   "metadata": {
    "collapsed": false
   }
  },
  {
   "cell_type": "code",
   "execution_count": null,
   "outputs": [],
   "source": [
    "def suma(a, b):\n",
    "    return a + b"
   ],
   "metadata": {
    "collapsed": false,
    "pycharm": {
     "name": "#%%\n"
    }
   }
  },
  {
   "cell_type": "code",
   "execution_count": null,
   "outputs": [],
   "source": [
    "def suma(*args):  # *args es de tipo tupla e incluye todos los datos con los que se llame la función\n",
    "    total = 0\n",
    "    for num in args:\n",
    "        total += num\n",
    "    return total\n",
    "\n",
    "\n",
    "suma(1, 2, 3, 4, 5)"
   ],
   "metadata": {
    "collapsed": false,
    "pycharm": {
     "name": "#%%\n"
    }
   }
  },
  {
   "cell_type": "markdown",
   "source": [
    "## **kwargs\n",
    "---\n",
    "El funcionamiento de kwargs es similar al del args, la diferencia es que es de tipo diccionario"
   ],
   "metadata": {
    "collapsed": false
   }
  },
  {
   "cell_type": "code",
   "execution_count": null,
   "outputs": [],
   "source": [
    "def suma(**kwargs):\n",
    "    total = 0\n",
    "    for key, value in kwargs.items():\n",
    "        print(key, ' = ', value)\n",
    "        total += value\n",
    "    return total\n",
    "\n",
    "\n",
    "suma(a=3, b=10, c=5)"
   ],
   "metadata": {
    "collapsed": false,
    "pycharm": {
     "name": "#%%\n"
    }
   }
  },
  {
   "cell_type": "markdown",
   "source": [
    "Se pueden mezclar todos los tipos de argumentos"
   ],
   "metadata": {
    "collapsed": false
   }
  },
  {
   "cell_type": "code",
   "execution_count": null,
   "outputs": [],
   "source": [
    "def f_prueba(a, b, *args, **kwargs):\n",
    "    print(a)\n",
    "    print(b)\n",
    "    for arg in args:\n",
    "        print(arg)\n",
    "    for key, value in kwargs.items():\n",
    "        print(key, ' = ', value)\n",
    "\n",
    "\n",
    "f_prueba(10, 20, 1, 2, 3, 4, p=10, c=15, x=25)"
   ],
   "metadata": {
    "collapsed": false,
    "pycharm": {
     "name": "#%%\n"
    }
   }
  },
  {
   "cell_type": "markdown",
   "source": [
    "# Ejercicio: Implementar una función que permita comprobar si la nota introducida es correcta y si no lo es solicitarla de nuevo"
   ],
   "metadata": {
    "collapsed": false
   }
  },
  {
   "cell_type": "code",
   "execution_count": null,
   "outputs": [],
   "source": [
    "import math\n",
    "\n",
    "\n",
    "def comprobar_nota(nota: str):\n",
    "    if nota.isdigit():\n",
    "        return int(nota)\n",
    "    else:\n",
    "        return None\n",
    "\n",
    "\n",
    "def solicitar_nota(materia: str) -> int:\n",
    "    nota = None\n",
    "    while nota is None:\n",
    "        nota = comprobar_nota(input('Introduzca nota en ' + materia + ':'))\n",
    "        if nota is None:\n",
    "            print(f'La nota de {materia} no es correcta')\n",
    "    else:\n",
    "        print(f'Se ha guardado la nota en {materia}: {nota}')\n",
    "        return nota\n",
    "\n",
    "\n",
    "print('Introduzca los siguientes datos:')\n",
    "Nombre_1 = input('Nombre del alumno 1: ')\n",
    "Apellido1_1 = input('Primer apellido: ')\n",
    "Apellido2_1 = input('Segundo apellido: ')\n",
    "\n",
    "fisica_1 = solicitar_nota('fisica')\n",
    "\n",
    "matematicas_1 = solicitar_nota('matemáticas')\n",
    "\n",
    "termodinamica_1 = solicitar_nota('termodinamica')\n",
    "\n",
    "print('\\nNota media del alumno:\\n')\n",
    "nota_media = math.ceil((fisica_1 + matematicas_1 + termodinamica_1) / 3)\n",
    "if nota_media >= 9:\n",
    "    calificacion = 'Sobresaliente'\n",
    "elif 7 <= nota_media < 9:\n",
    "    calificacion = 'Notable'\n",
    "elif 5 <= nota_media < 7:\n",
    "    calificacion = 'Aprobado'\n",
    "else:\n",
    "    calificacion = 'Suspenso'\n",
    "\n",
    "print(f'\\t{Apellido1_1} {Apellido2_1}, {Nombre_1}: {nota_media} ({calificacion})')\n"
   ],
   "metadata": {
    "collapsed": false,
    "pycharm": {
     "name": "#%%\n"
    }
   }
  },
  {
   "cell_type": "markdown",
   "source": [
    "# Recursividad"
   ],
   "metadata": {
    "collapsed": false
   }
  },
  {
   "cell_type": "code",
   "execution_count": null,
   "outputs": [],
   "source": [
    "def factorial(n):\n",
    "    if n == 1:\n",
    "        return 1\n",
    "    else:\n",
    "        return n * factorial(n - 1)\n",
    "\n",
    "\n",
    "factorial(5)"
   ],
   "metadata": {
    "collapsed": false,
    "pycharm": {
     "name": "#%%\n"
    }
   }
  },
  {
   "cell_type": "markdown",
   "source": [
    "# Funcion lambda\n",
    "Las funciones lambda son funciones anonimas, no tienen un nombre definido de base. Lo que generan es una instancia a una función que podemos usar principalmente paara programacion funcional"
   ],
   "metadata": {
    "collapsed": false
   }
  },
  {
   "cell_type": "code",
   "execution_count": null,
   "outputs": [],
   "source": [
    "f = lambda a, b: a + b\n",
    "print(f)"
   ],
   "metadata": {
    "collapsed": false,
    "pycharm": {
     "name": "#%%\n"
    }
   }
  },
  {
   "cell_type": "code",
   "execution_count": null,
   "outputs": [],
   "source": [
    "f(10, 20)"
   ],
   "metadata": {
    "collapsed": false,
    "pycharm": {
     "name": "#%%\n"
    }
   }
  },
  {
   "cell_type": "code",
   "execution_count": null,
   "outputs": [],
   "source": [
    "# Ejemplo con programacion funcional\n",
    "l = [1, 3, 5, 7]\n",
    "result = map(lambda n: n ** 2, l)\n",
    "print(list(result))"
   ],
   "metadata": {
    "collapsed": false,
    "pycharm": {
     "name": "#%%\n"
    }
   }
  },
  {
   "cell_type": "code",
   "execution_count": null,
   "outputs": [],
   "source": [
    "l = list(range(1, 11))\n",
    "result = filter(lambda n: n % 2 == 0, l)\n",
    "print(list(result))"
   ],
   "metadata": {
    "collapsed": false,
    "pycharm": {
     "name": "#%%\n"
    }
   }
  },
  {
   "cell_type": "markdown",
   "source": [
    "# Decorators\n",
    "Los decorators son funciones que modifican el funcionamiento de otra función. Lo veremos en la programación Orientada a Objetos para crear getters y setters\n",
    "A continuación se dará un ejemplo de como se crean y como funcionan"
   ],
   "metadata": {
    "collapsed": false
   }
  },
  {
   "cell_type": "code",
   "execution_count": null,
   "outputs": [],
   "source": [
    "def midecorator(funcion):\n",
    "    def nuevafuncion(a, b):\n",
    "        print('Se va a llamar')\n",
    "        result = funcion(a, b)\n",
    "        print('Funcion ejecutada')\n",
    "        return result\n",
    "\n",
    "    return nuevafuncion"
   ],
   "metadata": {
    "collapsed": false,
    "pycharm": {
     "name": "#%%\n"
    }
   }
  },
  {
   "cell_type": "code",
   "execution_count": null,
   "outputs": [],
   "source": [
    "@midecorator\n",
    "def suma(a, b):\n",
    "    return a + b"
   ],
   "metadata": {
    "collapsed": false,
    "pycharm": {
     "name": "#%%\n"
    }
   }
  },
  {
   "cell_type": "code",
   "execution_count": null,
   "outputs": [],
   "source": [
    "suma(10, 20)"
   ],
   "metadata": {
    "collapsed": false,
    "pycharm": {
     "name": "#%%\n"
    }
   }
  },
  {
   "cell_type": "markdown",
   "source": [
    "# Scope rules: LEGB\n",
    "Las Scope rules son las reglas que definen en python donde buscar una variable\n",
    "Conocer estas reglas nos permiten saber en un punto del código a que variable se está refiriendo.\n",
    "Hay 4 nives de namespaces:\n",
    "- L: Local\n",
    "- E: Enclosing functions\n",
    "- G: Global\n",
    "- B: Built in functions\n",
    "\n",
    "En el caso de que python no sea capaz de encontrar el nombre de variable en el contexto local irá subiendo de contexto hasta que la encuentre. Debemos tener cuidado ya que podemos tener comportamientos inesperados."
   ],
   "metadata": {
    "collapsed": false
   }
  },
  {
   "cell_type": "code",
   "execution_count": null,
   "outputs": [],
   "source": [
    "def update():\n",
    "    x.append(1)  # x no existe en el contexto local\n",
    "\n",
    "\n",
    "x = [0, 1]\n",
    "update()  # No genera un error ya que ha encontrado x en el contexto global"
   ],
   "metadata": {
    "collapsed": false,
    "pycharm": {
     "name": "#%%\n"
    }
   }
  },
  {
   "cell_type": "code",
   "execution_count": null,
   "outputs": [],
   "source": [
    "print(x)"
   ],
   "metadata": {
    "collapsed": false,
    "pycharm": {
     "name": "#%%\n"
    }
   }
  },
  {
   "cell_type": "markdown",
   "source": [
    "# 14. Manejo de errores y excepciones\n",
    "El manejo de excepciones permiten controlar el comportamiento del programa cuando se produce un error. A no ser que la excepción sea recogida y tratada el programa se parará.\n",
    "La lista de posibles excepciones son: [Excepciones](https://docs.python.org/3/library/exceptions.html)"
   ],
   "metadata": {
    "collapsed": false
   }
  },
  {
   "cell_type": "code",
   "execution_count": null,
   "outputs": [],
   "source": [
    "# Si realizamos una división entre 0 se generará una excepción de tipo ZeroDivisionError\n",
    "a = 5\n",
    "b = 0\n",
    "print(a / b)"
   ],
   "metadata": {
    "collapsed": false,
    "pycharm": {
     "name": "#%%\n"
    }
   }
  },
  {
   "cell_type": "code",
   "execution_count": null,
   "outputs": [],
   "source": [
    "# Podemos controlar la excepción manualmente\n",
    "a = 5\n",
    "b = 0\n",
    "if b != 0:\n",
    "    print(a / b)\n",
    "else:\n",
    "    print('División entre 0')"
   ],
   "metadata": {
    "collapsed": false,
    "pycharm": {
     "name": "#%%\n"
    }
   }
  },
  {
   "cell_type": "code",
   "execution_count": null,
   "outputs": [],
   "source": [
    "# Pero no podemos controlar todas las excepciones por lo que podemos recoger las excepciones que se produzcan\n",
    "a = 5\n",
    "b = 0\n",
    "try:\n",
    "    print(a / b)\n",
    "except ZeroDivisionError as ze:\n",
    "    print(f'Zero division error: {ze}')\n",
    "except ValueError as v:  # Podemos recoger excepciones concretas\n",
    "    print(f'Value error {v}')\n",
    "except Exception as e:  # Tambien podemos recoger excepciones genéricas\n",
    "    print(e)\n",
    "else:  # Llegará a este punto si no se produce ningunna excepción\n",
    "    print('No se ha producido ninguna excepción')\n",
    "finally:  # El contenido del finally siempre se ejecuta\n",
    "    print('Siempre se ejecuta')"
   ],
   "metadata": {
    "collapsed": false,
    "pycharm": {
     "name": "#%%\n"
    }
   }
  },
  {
   "cell_type": "code",
   "execution_count": null,
   "outputs": [],
   "source": [
    "# Tambien podemos generar nuestras propias excepciones\n",
    "a = 5\n",
    "b = 0\n",
    "try:\n",
    "    if b == 0:\n",
    "        raise ValueError('El denominador es cero')\n",
    "    print(a / b)\n",
    "except ValueError as v:\n",
    "    print(v)"
   ],
   "metadata": {
    "collapsed": false,
    "pycharm": {
     "name": "#%%\n"
    }
   }
  },
  {
   "cell_type": "markdown",
   "source": [
    "# Ejercicio\n",
    "Controlar el while para la solicitud de la nota mediante un flag que será controlado mediante la captura de la excepción al convertir el valor a numero decimal.\n",
    "Además lanzar una excepción en caso de que el valor este fuera del rango 0-10\n"
   ],
   "metadata": {
    "collapsed": false
   }
  },
  {
   "cell_type": "code",
   "execution_count": null,
   "outputs": [],
   "source": [
    "import math\n",
    "from traceback import format_exc\n",
    "\n",
    "\n",
    "def solicitar_nota(materia: str) -> float:\n",
    "    flag = False\n",
    "    while not flag:\n",
    "        try:\n",
    "            nota = float(input('Introduzca nota en ' + materia + ':'))\n",
    "            if not 0 <= nota <= 10:\n",
    "                raise ValueError('Out of range')\n",
    "        # Descomentar para probar format_exc o no\n",
    "        # except ValueError as e:\n",
    "        #     print(f'Error en el valor introducido: {e}')\n",
    "        except Exception as e:\n",
    "            print(type(e))\n",
    "            print(format_exc())\n",
    "        else:\n",
    "            print(f'Se ha guardado la nota en {materia}: {nota}')\n",
    "            return nota\n",
    "\n",
    "\n",
    "print('Introduzca los siguientes datos:')\n",
    "Nombre_1 = input('Nombre del alumno 1: ')\n",
    "Apellido1_1 = input('Primer apellido: ')\n",
    "Apellido2_1 = input('Segundo apellido: ')\n",
    "\n",
    "fisica_1 = solicitar_nota('fisica')\n",
    "\n",
    "matematicas_1 = solicitar_nota('matemáticas')\n",
    "\n",
    "termodinamica_1 = solicitar_nota('termodinamica')\n",
    "\n",
    "print('\\nNota media del alumno:\\n')\n",
    "nota_media = math.ceil((fisica_1 + matematicas_1 + termodinamica_1) / 3)\n",
    "if nota_media >= 9:\n",
    "    calificacion = 'Sobresaliente'\n",
    "elif 7 <= nota_media < 9:\n",
    "    calificacion = 'Notable'\n",
    "elif 5 <= nota_media < 7:\n",
    "    calificacion = 'Aprobado'\n",
    "else:\n",
    "    calificacion = 'Suspenso'\n",
    "\n",
    "print(f'\\t{Apellido1_1} {Apellido2_1}, {Nombre_1}: {nota_media} ({calificacion})')"
   ],
   "metadata": {
    "collapsed": false,
    "pycharm": {
     "name": "#%%\n"
    }
   }
  },
  {
   "cell_type": "markdown",
   "source": [
    "# Programación Orientada a Objetos\n",
    "La programación orientada a objetos surge de la necesidad de organizar el código, cada vez más complejo, de forma que sea más visual, comprensible y sencillo.\n",
    "Un objeto en Python se define mediante una clase que nos permite agrupar variables que llamaremos atributos y funciones que llamaremos métodos.\n",
    "\n",
    "La programación orientada a objetos queda explicada en los archivos clase base y clase perro en los que se define la clase base mamífero de la cual hereda la clase perro y por otro lado está la clase jauría que permite hacer operaciones con diferentes perros.\n"
   ],
   "metadata": {
    "collapsed": false
   }
  },
  {
   "cell_type": "markdown",
   "source": [
    "## Pilares de la POO\n",
    "- Herencia: Proceso mediante el cual podemos crear una clase que hereda y comparte los métodos y atributos de la clase padre.\n",
    "- Abstracción: La extracción consiste en dar el usuario una interfaz con métodos simples de forma que no tenga que preocuparse de la complejidad interna del método.\n",
    "- Polimorfismo: Hace referencia a que una clase hija puede adoptar y modificar los métodos de la clase padre.\n",
    "- Encapsulamiento: Hola se ocultarán los métodos internos para que no puedan ser modificados desde fuera.\n",
    "- Cohesion: Hola debemos simplificar las funciones de forma que cada una realice una única tarea.\n",
    "- Acoplamiento: Hace referencia a la dependencia con otros módulos. Debemos tratar de tener un acoplamiento débil de forma que el comportamiento de nuestra clase no dependa del Estado de otras."
   ],
   "metadata": {
    "collapsed": false
   }
  },
  {
   "cell_type": "markdown",
   "source": [
    "# Ejercicio\n",
    "Crear la clase alumno que contenga un atributo de instancia de tipo diccionario que contenga las asignaturas y su nota correspondiente.\n",
    "Hacer el getter y setter de dicho atributo\n",
    "Y definir el método que calcula la media de las notas del alumno dentro de la clase\n"
   ],
   "metadata": {
    "collapsed": false
   }
  },
  {
   "cell_type": "code",
   "execution_count": null,
   "outputs": [],
   "source": [
    "import math\n",
    "from traceback import format_exc\n",
    "import statistics\n",
    "\n",
    "\n",
    "class Alumno:\n",
    "    def __init__(self, nombre):\n",
    "        self.nombre = nombre\n",
    "        self.__notas = {}\n",
    "\n",
    "    def set_nota(self, asignatura: str, nota: float):\n",
    "        if asignatura not in self.__notas.keys():\n",
    "            if 0 <= nota <= 10:\n",
    "                self.__notas[asignatura] = nota\n",
    "            else:\n",
    "                raise ArithmeticError('Out of range')\n",
    "        else:\n",
    "            print(f'La asignatura {asignatura} ya se ha guardado')\n",
    "\n",
    "    def get_notas(self):\n",
    "        notas = []\n",
    "        for key, value in self.__notas.keys():\n",
    "            notas.append((key, value))\n",
    "        return notas\n",
    "\n",
    "    def mean(self):\n",
    "        return math.ceil(statistics.mean(list(self.__notas.values())))\n",
    "\n",
    "\n",
    "def solicitar_nota(materia: str):\n",
    "    i = 3\n",
    "    while i > 0:\n",
    "        i += 1\n",
    "        try:\n",
    "            nota = float(input('Introduzca nota en ' + materia + ':'))\n",
    "            if not 0 <= nota <= 10:\n",
    "                raise ArithmeticError('Out of range')\n",
    "        except ArithmeticError as e:\n",
    "            print(e)\n",
    "        except Exception as e:\n",
    "            print(type(e))\n",
    "            print(format_exc())\n",
    "        else:\n",
    "            print(f'Se ha guardado la nota en {materia}: {nota}')\n",
    "            return nota\n",
    "    else:\n",
    "        raise Exception('Se han acabado los intentos')\n",
    "\n",
    "\n",
    "print('Introduzca los siguientes datos:')\n",
    "Nombre_1 = input('Nombre del alumno 1: ')\n",
    "Apellido1_1 = input('Primer apellido: ')\n",
    "Apellido2_1 = input('Segundo apellido: ')\n",
    "alumno = Alumno(f'{Apellido1_1} {Apellido2_1}, {Nombre_1}')\n",
    "\n",
    "for materia in ['fisica', 'matematicas', 'termodinamica']:\n",
    "    alumno.set_nota(materia, solicitar_nota(materia))\n",
    "\n",
    "print('\\nNota media del alumno:\\n')\n",
    "nota_media = alumno.mean()\n",
    "if nota_media >= 9:\n",
    "    calificacion = 'Sobresaliente'\n",
    "elif 7 <= nota_media < 9:\n",
    "    calificacion = 'Notable'\n",
    "elif 5 <= nota_media < 7:\n",
    "    calificacion = 'Aprobado'\n",
    "else:\n",
    "    calificacion = 'Suspenso'\n",
    "\n",
    "print(f'\\t{alumno.nombre}: {nota_media} ({calificacion})')"
   ],
   "metadata": {
    "collapsed": false,
    "pycharm": {
     "name": "#%%\n"
    }
   }
  },
  {
   "cell_type": "markdown",
   "source": [
    "# Librerias"
   ],
   "metadata": {
    "collapsed": false
   }
  },
  {
   "cell_type": "markdown",
   "source": [
    "## Paralelización\n",
    "Lo primero que debéis saber es que Python es multihilo y no multiproceso para el uso que le vamos a dar es más que suficiente únicamente que tengáis en cuenta que cuando creáis un thread no estáis creando un proceso estáis creando únicamente un hilo.\n",
    "No entraré en en profundidad en la creación de hilos pero os voy a poner a continuación cómo se haría."
   ],
   "metadata": {
    "collapsed": false
   }
  },
  {
   "cell_type": "code",
   "execution_count": null,
   "outputs": [],
   "source": [
    "import threading  # Esta es la librería que usaremos para crear el hilo\n",
    "\n",
    "\n",
    "def print_hilo():\n",
    "    print('Se ha ejecutado el hilo')\n",
    "\n",
    "\n",
    "thread = threading.Thread(target=print_hilo, daemon=False, name=f'Hilo de prueba')\n",
    "# thread: Es el nombre del hilo para que podamos manejarlo desde fuera\n",
    "# target: Observar que el target es la instancia a la función no la función en sí misma\n",
    "# daemon: El argumento daemon gestiona si el y lo padre esperará a la finalización del hilo hijo en este caso como daemon es igual a false, no esperará, en el momento en que hagamos un control-c se enviará una señal para matar al hilo hijo."
   ],
   "metadata": {
    "collapsed": false,
    "pycharm": {
     "name": "#%%\n"
    }
   }
  },
  {
   "cell_type": "code",
   "execution_count": null,
   "outputs": [],
   "source": [
    "thread.start()  # De esta forma se arranca el hilo y vemos que se ha ejecutado"
   ],
   "metadata": {
    "collapsed": false,
    "pycharm": {
     "name": "#%%\n"
    }
   }
  },
  {
   "cell_type": "markdown",
   "source": [
    "## Librería time\n",
    "La librería time nos va a permitir medir el tiempo y se usa de la siguiente manera."
   ],
   "metadata": {
    "collapsed": false
   }
  },
  {
   "cell_type": "code",
   "execution_count": null,
   "outputs": [],
   "source": [
    "import time"
   ],
   "metadata": {
    "collapsed": false,
    "pycharm": {
     "name": "#%%\n"
    }
   }
  },
  {
   "cell_type": "code",
   "execution_count": null,
   "outputs": [],
   "source": [
    "time.time()  # Esta función nos daráa el tiempo actual"
   ],
   "metadata": {
    "collapsed": false,
    "pycharm": {
     "name": "#%%\n"
    }
   }
  },
  {
   "cell_type": "code",
   "execution_count": null,
   "outputs": [],
   "source": [
    "start_time = time.time()"
   ],
   "metadata": {
    "collapsed": false,
    "pycharm": {
     "name": "#%%\n"
    }
   }
  },
  {
   "cell_type": "code",
   "execution_count": null,
   "outputs": [],
   "source": [
    "# Esperamos unos segundos\n",
    "time.sleep(1)  # Por si ejecutais todo seguido"
   ],
   "metadata": {
    "collapsed": false,
    "pycharm": {
     "name": "#%%\n"
    }
   }
  },
  {
   "cell_type": "code",
   "execution_count": null,
   "outputs": [],
   "source": [
    "end_time = time.time()"
   ],
   "metadata": {
    "collapsed": false,
    "pycharm": {
     "name": "#%%\n"
    }
   }
  },
  {
   "cell_type": "code",
   "execution_count": null,
   "outputs": [],
   "source": [
    "print(f'Han transcurrido {end_time - start_time} segundos')"
   ],
   "metadata": {
    "collapsed": false,
    "pycharm": {
     "name": "#%%\n"
    }
   }
  },
  {
   "cell_type": "markdown",
   "source": [
    "Usando el ejemplo del dado vamos a ver la diferencia de rendimiento entre numpy y array"
   ],
   "metadata": {
    "collapsed": false
   }
  },
  {
   "cell_type": "code",
   "execution_count": null,
   "outputs": [],
   "source": [
    "import time\n",
    "import random\n",
    "\n",
    "start_time = time.time()\n",
    "a = []\n",
    "for rep in range(1000000):\n",
    "    y = 1000000\n",
    "    for k in range(10):\n",
    "        x = random.choice([1, 2, 3, 4, 5, 6])\n",
    "        y = y + x\n",
    "    a.append(y)\n",
    "\n",
    "end_time = time.time()\n",
    "print(end_time - start_time)"
   ],
   "metadata": {
    "collapsed": false,
    "pycharm": {
     "name": "#%%\n"
    }
   }
  },
  {
   "cell_type": "code",
   "execution_count": null,
   "outputs": [],
   "source": [
    "import time\n",
    "import numpy as np\n",
    "\n",
    "start_time = time.time()\n",
    "X = np.random.randint(1, 7, (1000000, 10))\n",
    "Y = np.sum(X, axis=1)\n",
    "\n",
    "end_time = time.time()\n",
    "print(end_time - start_time)"
   ],
   "metadata": {
    "collapsed": false,
    "pycharm": {
     "name": "#%%\n"
    }
   }
  },
  {
   "cell_type": "markdown",
   "source": [
    "## Numpy\n",
    "Es un módulo de Python que se utiliza para computación científica.Es muy potente y contiene características como la generación de números aleatorios manejo de matrices vectores etc. La documentación completa está en [numpy](www.numpy.org)\n",
    "\n",
    "El elemento principal de numpy son los numpy arrays, estos nos permiten representar vectores y matrices. Su funcionamiento es similar a las listas con la diferencia de que estos tienen un tamaño predefinido en su creación y que todo su contenido debe ser del mismo tipo de dato.\n",
    "\n",
    "Numpy nos permite programar código más eficiente y sencillo."
   ],
   "metadata": {
    "collapsed": false
   }
  },
  {
   "cell_type": "code",
   "execution_count": null,
   "outputs": [],
   "source": [
    "import numpy as np  # Esta es la importación por convenio de la librería"
   ],
   "metadata": {
    "collapsed": false,
    "pycharm": {
     "name": "#%%\n"
    }
   }
  },
  {
   "cell_type": "code",
   "execution_count": null,
   "outputs": [],
   "source": [
    "vector_ceros = np.zeros(5)  # Esto crea un vector de 0s de tamaño 5"
   ],
   "metadata": {
    "collapsed": false,
    "pycharm": {
     "name": "#%%\n"
    }
   }
  },
  {
   "cell_type": "code",
   "execution_count": null,
   "outputs": [],
   "source": [
    "vector_ceros"
   ],
   "metadata": {
    "collapsed": false,
    "pycharm": {
     "name": "#%%\n"
    }
   }
  },
  {
   "cell_type": "code",
   "execution_count": null,
   "outputs": [],
   "source": [
    "matriz_ceros = np.zeros((5, 3))  # Esto crea una matriz de 0s de tamaño 5 filas, 3 columnas"
   ],
   "metadata": {
    "collapsed": false,
    "pycharm": {
     "name": "#%%\n"
    }
   }
  },
  {
   "cell_type": "code",
   "execution_count": null,
   "outputs": [],
   "source": [
    "matriz_ceros"
   ],
   "metadata": {
    "collapsed": false,
    "pycharm": {
     "name": "#%%\n"
    }
   }
  },
  {
   "cell_type": "code",
   "execution_count": null,
   "outputs": [],
   "source": [
    "# Tambien existen las funcione s np.ones y np.empty\n",
    "empty = np.empty((3, 3))"
   ],
   "metadata": {
    "collapsed": false,
    "pycharm": {
     "name": "#%%\n"
    }
   }
  },
  {
   "cell_type": "code",
   "execution_count": null,
   "outputs": [],
   "source": [
    "empty  # Es mas eficiente pero su contenido es el que contenga la memoria ram en el momento de su creación"
   ],
   "metadata": {
    "collapsed": false,
    "pycharm": {
     "name": "#%%\n"
    }
   }
  },
  {
   "cell_type": "code",
   "execution_count": null,
   "outputs": [],
   "source": [
    "# Así se crean arrays con valores especificos\n",
    "# Por convenio se nombran con letras minusculas los vectores y con mayusculas las matrices\n",
    "x = np.array([1, 2, 3])\n",
    "y = np.array([4, 5, 6])\n",
    "A = np.array([[1, 3], [5, 9]])"
   ],
   "metadata": {
    "collapsed": false,
    "pycharm": {
     "name": "#%%\n"
    }
   }
  },
  {
   "cell_type": "code",
   "execution_count": null,
   "outputs": [],
   "source": [
    "A"
   ],
   "metadata": {
    "collapsed": false,
    "pycharm": {
     "name": "#%%\n"
    }
   }
  },
  {
   "cell_type": "code",
   "execution_count": null,
   "outputs": [],
   "source": [
    "A.transpose()"
   ],
   "metadata": {
    "collapsed": false,
    "pycharm": {
     "name": "#%%\n"
    }
   }
  },
  {
   "cell_type": "markdown",
   "source": [
    "### Acceso a los numpy arrays\n",
    "El acceso a una numpy array se realiza de la misma manera que se hacía con las listas.\n",
    "Únicamente se incorpora una diferencia que es que los numpy arrays permiten indexing y slicing"
   ],
   "metadata": {
    "collapsed": false
   }
  },
  {
   "cell_type": "code",
   "execution_count": null,
   "outputs": [],
   "source": [
    "# El slicing es el método habitual\n",
    "x = np.array([1, 2, 3, 4, 5])"
   ],
   "metadata": {
    "collapsed": false,
    "pycharm": {
     "name": "#%%\n"
    }
   }
  },
  {
   "cell_type": "code",
   "execution_count": null,
   "outputs": [],
   "source": [
    "x[3:5]  # El problema es que al ser mutables podríamos modificar el array original"
   ],
   "metadata": {
    "collapsed": false,
    "pycharm": {
     "name": "#%%\n"
    }
   }
  },
  {
   "cell_type": "code",
   "execution_count": null,
   "outputs": [],
   "source": [
    "x[3:5] = np.array([10, 20])"
   ],
   "metadata": {
    "collapsed": false,
    "pycharm": {
     "name": "#%%\n"
    }
   }
  },
  {
   "cell_type": "code",
   "execution_count": null,
   "outputs": [],
   "source": [
    "x"
   ],
   "metadata": {
    "collapsed": false,
    "pycharm": {
     "name": "#%%\n"
    }
   }
  },
  {
   "cell_type": "code",
   "execution_count": null,
   "outputs": [],
   "source": [
    "x = np.array([1, 2, 3])\n",
    "y = np.array([2, 4, 6])\n",
    "z = x + y  # La suma no es una concatenacion si no que es una suma posicion por posicion\n",
    "print(z)"
   ],
   "metadata": {
    "collapsed": false,
    "pycharm": {
     "name": "#%%\n"
    }
   }
  },
  {
   "cell_type": "code",
   "execution_count": null,
   "outputs": [],
   "source": [
    "X = np.array([[1, 2, 3], [4, 5, 6]])\n",
    "Y = np.array([[2, 4, 6], [8, 10, 12]])\n",
    "# Acceso a toda la primera columna\n",
    "print(X[:, 1])\n",
    "print(Y[:, 1])\n",
    "# Acceso a toda la primera fila\n",
    "print(X[1, :])\n",
    "print(Y[1])  # lo mismo"
   ],
   "metadata": {
    "collapsed": false,
    "pycharm": {
     "name": "#%%\n"
    }
   }
  },
  {
   "cell_type": "markdown",
   "source": [
    "#### Indexing\n",
    "El indexing consiste en acceder a los valores mediante un array lógico o de posiciones"
   ],
   "metadata": {
    "collapsed": false
   }
  },
  {
   "cell_type": "code",
   "execution_count": null,
   "outputs": [],
   "source": [
    "z1 = np.array([1, 3, 5, 7, 9])\n",
    "z2 = z1 + 1  # Suma 1 a cada elemento\n",
    "print(z1)\n",
    "print(z2)"
   ],
   "metadata": {
    "collapsed": false,
    "pycharm": {
     "name": "#%%\n"
    }
   }
  },
  {
   "cell_type": "code",
   "execution_count": null,
   "outputs": [],
   "source": [
    "ind = [0, 2, 3]  # Puede ser una lista o un numpy array\n",
    "print(z1[ind])  # Acceso a esas posiciones a la vez"
   ],
   "metadata": {
    "collapsed": false,
    "pycharm": {
     "name": "#%%\n"
    }
   }
  },
  {
   "cell_type": "code",
   "execution_count": null,
   "outputs": [],
   "source": [
    "b = z1[ind]  # es un array completamente distinto al original"
   ],
   "metadata": {
    "collapsed": false,
    "pycharm": {
     "name": "#%%\n"
    }
   }
  },
  {
   "cell_type": "code",
   "execution_count": null,
   "outputs": [],
   "source": [
    "b[0] = 25"
   ],
   "metadata": {
    "collapsed": false,
    "pycharm": {
     "name": "#%%\n"
    }
   }
  },
  {
   "cell_type": "code",
   "execution_count": null,
   "outputs": [],
   "source": [
    "print(b)\n",
    "print(z1)"
   ],
   "metadata": {
    "collapsed": false,
    "pycharm": {
     "name": "#%%\n"
    }
   }
  },
  {
   "cell_type": "code",
   "execution_count": null,
   "outputs": [],
   "source": [
    "print(z1 > 6)  # Construccion de un array booleano\n",
    "print(z1[z1 > 6])  # Se puede usar como indice\n",
    "print(z2[z2 < 6])"
   ],
   "metadata": {
    "collapsed": false,
    "pycharm": {
     "name": "#%%\n"
    }
   }
  },
  {
   "cell_type": "code",
   "execution_count": null,
   "outputs": [],
   "source": [
    "ind = z1 > 6  # Vector logico que podemos usar como indice en diferentes arrays (debe ser del mismo tamaño)\n",
    "print(z1[ind])\n",
    "print(z2[ind])"
   ],
   "metadata": {
    "collapsed": false,
    "pycharm": {
     "name": "#%%\n"
    }
   }
  },
  {
   "cell_type": "markdown",
   "source": [
    "## Creación y propiedades\n",
    "Numpy Contiene varios métodos para crear arrays con elementos espaciados uniformemente únicamente indicando el inicio y el final"
   ],
   "metadata": {
    "collapsed": false
   }
  },
  {
   "cell_type": "code",
   "execution_count": null,
   "outputs": [],
   "source": [
    "# Creación de un array de 11 elementos separados uniformemente entre el 0 y 100\n",
    "# Linspace\n",
    "ln = np.linspace(0, 100, 11)\n",
    "print(ln)"
   ],
   "metadata": {
    "collapsed": false,
    "pycharm": {
     "name": "#%%\n"
    }
   }
  },
  {
   "cell_type": "code",
   "execution_count": null,
   "outputs": [],
   "source": [
    "# Creación de un array de 10 elementos separados logaritmicamente entre el 10 y 100\n",
    "# Logspace\n",
    "lg = np.logspace(1, 2, 10)  # Inicio 10, fin 100\n",
    "print(lg)"
   ],
   "metadata": {
    "collapsed": false,
    "pycharm": {
     "name": "#%%\n"
    }
   }
  },
  {
   "cell_type": "code",
   "execution_count": null,
   "outputs": [],
   "source": [
    "lg_2 = np.logspace(np.log10(250), np.log10(500), 10)\n",
    "print(lg_2)"
   ],
   "metadata": {
    "collapsed": false,
    "pycharm": {
     "name": "#%%\n"
    }
   }
  },
  {
   "cell_type": "markdown",
   "source": [
    "### Shape\n",
    "Para obtener el tamaño del array no podemos usar la funcion len ya que si es una matriz solo nos dará el tamaño de la primera dimensión.\n",
    "Para obtenerlo usaremos el atributo shape."
   ],
   "metadata": {
    "collapsed": false
   }
  },
  {
   "cell_type": "code",
   "execution_count": null,
   "outputs": [],
   "source": [
    "X"
   ],
   "metadata": {
    "collapsed": false,
    "pycharm": {
     "name": "#%%\n"
    }
   }
  },
  {
   "cell_type": "code",
   "execution_count": null,
   "outputs": [],
   "source": [
    "X.shape  # Así podemos saber el número de dimensiones y el tamaño de cada una"
   ],
   "metadata": {
    "collapsed": false,
    "pycharm": {
     "name": "#%%\n"
    }
   }
  },
  {
   "cell_type": "markdown",
   "source": [
    "### Random\n",
    "Numpy tiene su propio módulo random"
   ],
   "metadata": {
    "collapsed": false
   }
  },
  {
   "cell_type": "code",
   "execution_count": null,
   "outputs": [],
   "source": [
    "np.random.random(10)  # 10 numeros aleatorios siguiendo una distribucion uniforme"
   ],
   "metadata": {
    "collapsed": false,
    "pycharm": {
     "name": "#%%\n"
    }
   }
  },
  {
   "cell_type": "code",
   "execution_count": null,
   "outputs": [],
   "source": [
    "r = np.random.random(10)\n",
    "print(r)"
   ],
   "metadata": {
    "collapsed": false,
    "pycharm": {
     "name": "#%%\n"
    }
   }
  },
  {
   "cell_type": "code",
   "execution_count": null,
   "outputs": [],
   "source": [
    "# Numpy tiene las funciones any y all que nos permiten comprobar de un solo golpe si hay algun o todos los  elementoss que cumplan una condicion:\n",
    "print(np.any(r > 0.9))\n",
    "print(np.all(r > 0.9))"
   ],
   "metadata": {
    "collapsed": false,
    "pycharm": {
     "name": "#%%\n"
    }
   }
  },
  {
   "cell_type": "markdown",
   "source": [
    "# Matplotlib\n",
    "Matplotlib es la librería que se usa para dibujar gráficas.\n",
    "Vamos a usar una sublibrería de matplotlib que es pyplot que es especialmente útil en modo interactivo."
   ],
   "metadata": {
    "collapsed": false
   }
  },
  {
   "cell_type": "code",
   "execution_count": null,
   "outputs": [],
   "source": [
    "import matplotlib.pyplot as plt  # Convención"
   ],
   "metadata": {
    "collapsed": false,
    "pycharm": {
     "name": "#%%\n"
    }
   }
  },
  {
   "cell_type": "code",
   "execution_count": null,
   "outputs": [],
   "source": [
    "# La funcion mas básiuca es plot\n",
    "plt.plot([0, 1, 4, 9, 16])\n",
    "# Si ejecutamos esto en una consola o en algo que no sea un IDE debemos usar la función plt.show()"
   ],
   "metadata": {
    "collapsed": false,
    "pycharm": {
     "name": "#%%\n"
    }
   }
  },
  {
   "cell_type": "code",
   "execution_count": null,
   "outputs": [],
   "source": [
    "x = np.linspace(0, 10, 20)\n",
    "y = x ** 2\n",
    "plt.plot(x, y)\n",
    "# Obtenemos un resultado de parabola"
   ],
   "metadata": {
    "collapsed": false,
    "pycharm": {
     "name": "#%%\n"
    }
   }
  },
  {
   "cell_type": "code",
   "execution_count": null,
   "outputs": [],
   "source": [
    "x = np.linspace(0, 10, 20)\n",
    "y1 = x ** 2\n",
    "y2 = x ** 1.5\n",
    "# Podemos modificar la apariencia\n",
    "plt.plot(x, y1, 'bo-')  # Azul, circulos, linea continua"
   ],
   "metadata": {
    "collapsed": false,
    "pycharm": {
     "name": "#%%\n"
    }
   }
  },
  {
   "cell_type": "code",
   "execution_count": null,
   "outputs": [],
   "source": [
    "plt.plot(x, y1, 'bo-', linewidth=2, markersize=4)  # Azul, circulos, linea continua"
   ],
   "metadata": {
    "collapsed": false,
    "pycharm": {
     "name": "#%%\n"
    }
   }
  },
  {
   "cell_type": "code",
   "execution_count": null,
   "outputs": [],
   "source": [
    "plt.plot(x, y2, 'gs-', linewidth=2, markersize=4)  # Verde, cuadrados, linea continua 'rd-' rojo diamantes"
   ],
   "metadata": {
    "collapsed": false,
    "pycharm": {
     "name": "#%%\n"
    }
   }
  },
  {
   "cell_type": "code",
   "execution_count": null,
   "outputs": [],
   "source": [
    "#Legend\n",
    "x = np.linspace(0, 10, 20)\n",
    "y1 = x ** 2\n",
    "y2 = x ** 1.5\n",
    "plt.plot(x, y1, 'bo-', linewidth=2, markersize=4)\n",
    "plt.plot(x, y2, 'gs-', linewidth=2, markersize=4)\n",
    "plt.xlabel('$X$')  # DOlar para notacion matematica latex\n",
    "plt.ylabel('$Y$')"
   ],
   "metadata": {
    "collapsed": false,
    "pycharm": {
     "name": "#%%\n"
    }
   }
  },
  {
   "cell_type": "code",
   "execution_count": null,
   "outputs": [],
   "source": [
    "# Modificando el tamaño de los ejes\n",
    "x = np.linspace(0, 10, 20)\n",
    "y1 = x ** 2\n",
    "y2 = x ** 1.5\n",
    "plt.plot(x, y1, 'bo-', linewidth=2, markersize=4)\n",
    "plt.plot(x, y2, 'gs-', linewidth=2, markersize=4)\n",
    "plt.xlabel('$X$')  # DOlar para notacion matematica latex\n",
    "plt.ylabel('$Y$')\n",
    "#plt.axis([xmin,xmax,ymin,ymax])\n",
    "plt.axis([-0.5, 10.5, -5, 205])"
   ],
   "metadata": {
    "collapsed": false,
    "pycharm": {
     "name": "#%%\n"
    }
   }
  },
  {
   "cell_type": "code",
   "execution_count": null,
   "outputs": [],
   "source": [
    "# lengend\n",
    "x = np.linspace(0, 10, 20)\n",
    "y1 = x ** 2\n",
    "y2 = x ** 1.5\n",
    "plt.plot(x, y1, 'bo-', linewidth=2, markersize=4, label='y1')\n",
    "plt.plot(x, y2, 'gs-', linewidth=2, markersize=4, label='y2')\n",
    "plt.xlabel('$X$')  # DOlar para notacion matematica latex\n",
    "plt.ylabel('$Y$')\n",
    "#plt.axis([xmin,xmax,ymin,ymax])\n",
    "plt.axis([-0.5, 10.5, -5, 105])\n",
    "plt.legend(loc='upper left')  #loc->posicion en minusculas"
   ],
   "metadata": {
    "collapsed": false,
    "pycharm": {
     "name": "#%%\n"
    }
   }
  },
  {
   "cell_type": "code",
   "execution_count": null,
   "outputs": [],
   "source": [
    "# Plot en logaritmic axes\n",
    "x = np.logspace(-1, 1, 40)\n",
    "y1 = x ** 2\n",
    "y2 = x ** 1.5\n",
    "plt.loglog(x, y1, 'bo-', linewidth=2, markersize=4)\n",
    "plt.loglog(x, y2, 'gs-', linewidth=2, markersize=4)\n",
    "plt.xlabel('$X$')  # DOlar para notacion matematica latex\n",
    "plt.ylabel('$Y$')"
   ],
   "metadata": {
    "collapsed": false,
    "pycharm": {
     "name": "#%%\n"
    }
   }
  },
  {
   "cell_type": "code",
   "execution_count": null,
   "outputs": [],
   "source": [
    "# Histograma\n",
    "x = np.random.normal(size=1000)  # Random normal mean, varianbzza por defecto mean =0, varianza=1\n",
    "plt.hist(x)  # Numero de observaciones"
   ],
   "metadata": {
    "collapsed": false,
    "pycharm": {
     "name": "#%%\n"
    }
   }
  },
  {
   "cell_type": "code",
   "execution_count": null,
   "outputs": [],
   "source": [
    "plt.hist(x, density=True)  # Proporcion de observaciones"
   ],
   "metadata": {
    "collapsed": false,
    "pycharm": {
     "name": "#%%\n"
    }
   }
  },
  {
   "cell_type": "code",
   "execution_count": null,
   "outputs": [],
   "source": [
    "plt.hist(x, density=True, bins=np.linspace(-5, 5, 21))  # 21 para obtener 20"
   ],
   "metadata": {
    "collapsed": false,
    "pycharm": {
     "name": "#%%\n"
    }
   }
  },
  {
   "cell_type": "markdown",
   "source": [
    "Vamos a estudiar a continuación cuál es el funcionamiento de una distribución gamma sin necesidad de conocer matemáticamente su funcionamiento"
   ],
   "metadata": {
    "collapsed": false
   }
  },
  {
   "cell_type": "code",
   "execution_count": null,
   "outputs": [],
   "source": [
    "x = np.random.gamma(2, 3, 100000)  # Tamaño, escala, cantidad"
   ],
   "metadata": {
    "collapsed": false,
    "pycharm": {
     "name": "#%%\n"
    }
   }
  },
  {
   "cell_type": "code",
   "execution_count": null,
   "outputs": [],
   "source": [
    "plt.figure()\n",
    "plt.subplot(221)  # El numero significa que se van a dibujar 2 columnas, 2 filas y esta es la posicion 1\n",
    "plt.hist(x, bins=30);  # Si ponemos ; no escribe el log\n",
    "plt.subplot(222)\n",
    "plt.hist(x, bins=30, density=True);\n",
    "plt.subplot(223)\n",
    "plt.hist(x, bins=30, cumulative=30);\n",
    "plt.subplot(224)\n",
    "plt.hist(x, bins=30, density=True, cumulative=True, histtype='step');"
   ],
   "metadata": {
    "collapsed": false,
    "pycharm": {
     "name": "#%%\n"
    }
   }
  },
  {
   "cell_type": "markdown",
   "source": [
    "Observando los histogramas anteriores podemos ver que la distribución gamma es una distribución continua de probabilidad entre 0 y más infinito"
   ],
   "metadata": {
    "collapsed": false
   }
  },
  {
   "cell_type": "markdown",
   "source": [
    "## Simular aleatoreidad"
   ],
   "metadata": {
    "collapsed": false
   }
  },
  {
   "cell_type": "code",
   "execution_count": null,
   "outputs": [],
   "source": [
    "import random\n",
    "\n",
    "import matplotlib.pyplot as plt\n",
    "import numpy as np"
   ],
   "metadata": {
    "collapsed": false,
    "pycharm": {
     "name": "#%%\n"
    }
   }
  },
  {
   "cell_type": "code",
   "execution_count": null,
   "outputs": [],
   "source": [
    "random.choice(['Cara', 'Cruz'])"
   ],
   "metadata": {
    "collapsed": false,
    "pycharm": {
     "name": "#%%\n"
    }
   }
  },
  {
   "cell_type": "code",
   "execution_count": null,
   "outputs": [],
   "source": [
    "random.choice(['Cara', 'Cruz'])"
   ],
   "metadata": {
    "collapsed": false,
    "pycharm": {
     "name": "#%%\n"
    }
   }
  },
  {
   "cell_type": "code",
   "execution_count": null,
   "outputs": [],
   "source": [
    "random.choice([0, 1])"
   ],
   "metadata": {
    "collapsed": false,
    "pycharm": {
     "name": "#%%\n"
    }
   }
  },
  {
   "cell_type": "markdown",
   "source": [
    "# Dado"
   ],
   "metadata": {
    "collapsed": false
   }
  },
  {
   "cell_type": "code",
   "execution_count": null,
   "outputs": [],
   "source": [
    "random.choice([1, 2, 3, 4, 5, 6])"
   ],
   "metadata": {
    "collapsed": false,
    "pycharm": {
     "name": "#%%\n"
    }
   }
  },
  {
   "cell_type": "code",
   "execution_count": null,
   "outputs": [],
   "source": [
    "random.choice(range(1, 7))"
   ],
   "metadata": {
    "collapsed": false,
    "pycharm": {
     "name": "#%%\n"
    }
   }
  },
  {
   "cell_type": "code",
   "execution_count": null,
   "outputs": [],
   "source": [
    "random.choice([range(1, 7)])  # Posible error"
   ],
   "metadata": {
    "collapsed": false,
    "pycharm": {
     "name": "#%%\n"
    }
   }
  },
  {
   "cell_type": "markdown",
   "source": [
    "# Simular 3 dados"
   ],
   "metadata": {
    "collapsed": false
   }
  },
  {
   "cell_type": "code",
   "execution_count": null,
   "outputs": [],
   "source": [
    "random.choice([range(1, 7), range(1, 9), range(1, 11)])  # Cuidado ya  que obtenemos un tipo range no un numero"
   ],
   "metadata": {
    "collapsed": false,
    "pycharm": {
     "name": "#%%\n"
    }
   }
  },
  {
   "cell_type": "code",
   "execution_count": null,
   "outputs": [],
   "source": [
    "random.choice(random.choice([range(1, 7), range(1, 9), range(1, 11)]))"
   ],
   "metadata": {
    "collapsed": false,
    "pycharm": {
     "name": "#%%\n"
    }
   }
  },
  {
   "cell_type": "markdown",
   "source": [
    "# Ejemplo random y visualizacion"
   ],
   "metadata": {
    "collapsed": false
   }
  },
  {
   "cell_type": "markdown",
   "source": [
    "Tirar el dado 100 veces y mostrar el resultado"
   ],
   "metadata": {
    "collapsed": false
   }
  },
  {
   "cell_type": "code",
   "execution_count": null,
   "outputs": [],
   "source": [
    "import matplotlib.pyplot as plt\n",
    "import numpy as np\n",
    "\n",
    "lanzamientos = []\n",
    "for k in range(100):  # 100 no es suficiente\n",
    "    lanzamientos.append(random.choice([1, 2, 3, 4, 5, 6]))\n",
    "plt.hist(lanzamientos, bins=np.linspace(0.5, 6.5, 7))"
   ],
   "metadata": {
    "collapsed": false,
    "pycharm": {
     "name": "#%%\n"
    }
   }
  },
  {
   "cell_type": "code",
   "execution_count": null,
   "outputs": [],
   "source": [
    "lanzamientos = []\n",
    "for k in range(10000):  # 100 no es suficiente\n",
    "    lanzamientos.append(random.choice([1, 2, 3, 4, 5, 6]))\n",
    "plt.hist(lanzamientos, bins=np.linspace(0.5, 6.5, 7));"
   ],
   "metadata": {
    "collapsed": false,
    "pycharm": {
     "name": "#%%\n"
    }
   }
  },
  {
   "cell_type": "markdown",
   "source": [
    "# Random numpy"
   ],
   "metadata": {
    "collapsed": false
   }
  },
  {
   "cell_type": "code",
   "execution_count": null,
   "outputs": [],
   "source": [
    "import numpy as np"
   ],
   "metadata": {
    "collapsed": false,
    "pycharm": {
     "name": "#%%\n"
    }
   }
  },
  {
   "cell_type": "code",
   "execution_count": null,
   "outputs": [],
   "source": [
    "np.random.random()  # uniforme"
   ],
   "metadata": {
    "collapsed": false,
    "pycharm": {
     "name": "#%%\n"
    }
   }
  },
  {
   "cell_type": "code",
   "execution_count": null,
   "outputs": [],
   "source": [
    "np.random.random(5)"
   ],
   "metadata": {
    "collapsed": false,
    "pycharm": {
     "name": "#%%\n"
    }
   }
  },
  {
   "cell_type": "code",
   "execution_count": null,
   "outputs": [],
   "source": [
    "np.random.random((5, 3))"
   ],
   "metadata": {
    "collapsed": false,
    "pycharm": {
     "name": "#%%\n"
    }
   }
  },
  {
   "cell_type": "code",
   "execution_count": null,
   "outputs": [],
   "source": [
    "np.random.normal(0, 1)  # NOrmal media, varianza"
   ],
   "metadata": {
    "collapsed": false,
    "pycharm": {
     "name": "#%%\n"
    }
   }
  },
  {
   "cell_type": "code",
   "execution_count": null,
   "outputs": [],
   "source": [
    "np.random.normal(0, 1, 5)  # NOrmal"
   ],
   "metadata": {
    "collapsed": false,
    "pycharm": {
     "name": "#%%\n"
    }
   }
  },
  {
   "cell_type": "code",
   "execution_count": null,
   "outputs": [],
   "source": [
    "np.random.normal(0, 1, (2, 5))  # NOrmal"
   ],
   "metadata": {
    "collapsed": false,
    "pycharm": {
     "name": "#%%\n"
    }
   }
  },
  {
   "cell_type": "markdown",
   "source": [
    "Tirar 10 dados a la vez"
   ],
   "metadata": {
    "collapsed": false
   }
  },
  {
   "cell_type": "code",
   "execution_count": null,
   "outputs": [],
   "source": [
    "import time"
   ],
   "metadata": {
    "collapsed": false,
    "pycharm": {
     "name": "#%%\n"
    }
   }
  },
  {
   "cell_type": "code",
   "execution_count": null,
   "outputs": [],
   "source": [
    "start = time.time()\n",
    "X = np.random.randint(1, 7, (10000, 10))\n",
    "Y = np.sum(X, axis=1)\n",
    "#plt.hist(Y)\n",
    "end = time.time()\n",
    "print(end - start)"
   ],
   "metadata": {
    "collapsed": false,
    "pycharm": {
     "name": "#%%\n"
    }
   }
  },
  {
   "cell_type": "code",
   "execution_count": null,
   "outputs": [],
   "source": [
    "start = time.time()\n",
    "ys = []\n",
    "for rep in range(10000):\n",
    "    y = 0\n",
    "    for k in range(10):\n",
    "        x = random.choice([1, 2, 3, 4, 5, 6])\n",
    "        y = y + x\n",
    "    ys.append(y)\n",
    "#plt.hist(ys)\n",
    "end = time.time()\n",
    "print(end - start)"
   ],
   "metadata": {
    "collapsed": false,
    "pycharm": {
     "name": "#%%\n"
    }
   }
  },
  {
   "cell_type": "markdown",
   "source": [
    "# Ejercicio 3 en raya"
   ],
   "metadata": {
    "collapsed": false
   }
  },
  {
   "cell_type": "markdown",
   "source": [
    "1 Define la funcion crear_tablero que cree una matriz de 0s de tamaño 3x3"
   ],
   "metadata": {
    "collapsed": false
   }
  },
  {
   "cell_type": "code",
   "execution_count": 131,
   "outputs": [],
   "source": [
    "import numpy as np\n",
    "import random"
   ],
   "metadata": {
    "collapsed": false,
    "pycharm": {
     "name": "#%%\n"
    }
   }
  },
  {
   "cell_type": "code",
   "execution_count": 132,
   "outputs": [],
   "source": [
    "def crear_tablero():\n",
    "    return np.zeros((3, 3), dtype=int)"
   ],
   "metadata": {
    "collapsed": false,
    "pycharm": {
     "name": "#%%\n"
    }
   }
  },
  {
   "cell_type": "markdown",
   "source": [
    "2 Crear la funcion colocar para posicionar la ficha de un jugador que cambiará el 0 por su numero 1 o 2, esta funcion recogera 3 argumentos, el tablero que devolvera al final, el jugador(numero entero), posicion en forma de tupla.\n",
    "Debe comprobar que en dicha posicion no hay ningun jugador colocado"
   ],
   "metadata": {
    "collapsed": false
   }
  },
  {
   "cell_type": "code",
   "execution_count": 133,
   "outputs": [],
   "source": [
    "def colocar(tablero, jugador, posicion):\n",
    "    posicion = tuple(posicion)\n",
    "    if tablero[posicion] == 0:\n",
    "        tablero[posicion] = jugador\n",
    "        return tablero"
   ],
   "metadata": {
    "collapsed": false,
    "pycharm": {
     "name": "#%%\n"
    }
   }
  },
  {
   "cell_type": "markdown",
   "source": [
    "3  crear la funcion posibilidades que devuelve la lista de todas la sposiciones que son 0 usar np.where, el contenido de la lista deben ser tuplas"
   ],
   "metadata": {
    "collapsed": false
   }
  },
  {
   "cell_type": "code",
   "execution_count": 134,
   "outputs": [],
   "source": [
    "def posibilidades(tablero):\n",
    "    posiciones = np.where(tablero == 0)\n",
    "    return np.column_stack(posiciones)"
   ],
   "metadata": {
    "collapsed": false,
    "pycharm": {
     "name": "#%%\n"
    }
   }
  },
  {
   "cell_type": "markdown",
   "source": [
    "4 colocar aleatoriamente a la que se le mete el tablero y el jugador, dentro de las posibilidades"
   ],
   "metadata": {
    "collapsed": false
   }
  },
  {
   "cell_type": "code",
   "execution_count": 135,
   "outputs": [],
   "source": [
    "def colocar_aleatoriamente(tablero, jugador):\n",
    "    seleccion = posibilidades(tablero)\n",
    "    if len(seleccion) > 0:\n",
    "        selection = random.choice(seleccion)\n",
    "        colocar(tablero, jugador, selection)\n",
    "    return tablero"
   ],
   "metadata": {
    "collapsed": false,
    "pycharm": {
     "name": "#%%\n"
    }
   }
  },
  {
   "cell_type": "markdown",
   "source": [
    "5 Prueba crear un tablero y colocar 3 piezas para cadaa jugador 1 y 2 y mostrar el resultado"
   ],
   "metadata": {
    "collapsed": false
   }
  },
  {
   "cell_type": "code",
   "execution_count": 136,
   "outputs": [
    {
     "name": "stdout",
     "output_type": "stream",
     "text": [
      "[[2 2 1]\n",
      " [0 1 0]\n",
      " [0 1 2]]\n"
     ]
    }
   ],
   "source": [
    "random.seed(1)\n",
    "tablero = crear_tablero()\n",
    "for i in range(3):\n",
    "    for jugador in [1, 2]:\n",
    "        colocar_aleatoriamente(tablero, jugador)\n",
    "\n",
    "print(tablero)"
   ],
   "metadata": {
    "collapsed": false,
    "pycharm": {
     "name": "#%%\n"
    }
   }
  },
  {
   "cell_type": "markdown",
   "source": [
    "Comprobar que alguien ha ganado"
   ],
   "metadata": {
    "collapsed": false
   }
  },
  {
   "cell_type": "markdown",
   "source": [
    "6 Hacer una funcion llamada row_win que recoge el tablero y el jugador y conprueba si  tiene una fila ganadora devuelve True/False"
   ],
   "metadata": {
    "collapsed": false
   }
  },
  {
   "cell_type": "code",
   "execution_count": 137,
   "outputs": [],
   "source": [
    "def row_win(tablero, jugador):\n",
    "    if np.any(np.all(tablero == jugador, axis=1)):  # this checks if any row contains all positions equal to player.\n",
    "        return True\n",
    "    else:\n",
    "        return False"
   ],
   "metadata": {
    "collapsed": false,
    "pycharm": {
     "name": "#%%\n"
    }
   }
  },
  {
   "cell_type": "markdown",
   "source": [
    "7 Hacer una funcion llamada col_win que recoge el tablero y el jugador y conprueba si  tiene una columna ganadora devuelve True/False\n"
   ],
   "metadata": {
    "collapsed": false
   }
  },
  {
   "cell_type": "code",
   "execution_count": 138,
   "outputs": [],
   "source": [
    "def col_win(tablero, jugador):\n",
    "    if np.any(np.all(tablero == jugador, axis=0)):  # this checks if any column contains all positions equal to player\n",
    "        return True\n",
    "    else:\n",
    "        return False"
   ],
   "metadata": {
    "collapsed": false,
    "pycharm": {
     "name": "#%%\n"
    }
   }
  },
  {
   "cell_type": "markdown",
   "source": [
    "8 Hacer una funcion llamada diag_win que recoge el tablero y el jugador y conprueba si  tiene una diagonal ganadora devuelve True/False"
   ],
   "metadata": {
    "collapsed": false
   }
  },
  {
   "cell_type": "code",
   "execution_count": 139,
   "outputs": [],
   "source": [
    "def diag_win(tablero, jugador):\n",
    "    if np.all(np.diag(tablero) == jugador) or np.all(np.diag(np.fliplr(tablero)) == jugador):\n",
    "        # np.diag returns the diagonal of the array\n",
    "        # np.fliplr rearranges columns in reverse order\n",
    "        return True\n",
    "    else:\n",
    "        return False"
   ],
   "metadata": {
    "collapsed": false,
    "pycharm": {
     "name": "#%%\n"
    }
   }
  },
  {
   "cell_type": "markdown",
   "source": [
    "9 Definir la funcion evaluar que comprueba si alguien ha ganado la partida"
   ],
   "metadata": {
    "collapsed": false
   }
  },
  {
   "cell_type": "code",
   "execution_count": 140,
   "outputs": [],
   "source": [
    "def evaluar(tablero):\n",
    "    ganador = 0\n",
    "    for jugador in [1, 2]:\n",
    "        if row_win(tablero, jugador) or col_win(tablero, jugador) or diag_win(tablero, jugador):\n",
    "            ganador = jugador\n",
    "    if np.all(tablero != 0) and ganador == 0:\n",
    "        ganador = -1\n",
    "    return ganador"
   ],
   "metadata": {
    "collapsed": false,
    "pycharm": {
     "name": "#%%\n"
    }
   }
  },
  {
   "cell_type": "markdown",
   "source": [
    "10 Juega 1000 veces al tres en raya y guarda los resultados en una lista, ¿Cuantas veces gana el jugador 1?"
   ],
   "metadata": {
    "collapsed": false
   }
  },
  {
   "cell_type": "code",
   "execution_count": 141,
   "outputs": [
    {
     "data": {
      "text/plain": "591"
     },
     "execution_count": 141,
     "metadata": {},
     "output_type": "execute_result"
    }
   ],
   "source": [
    "random.seed(1)\n",
    "\n",
    "\n",
    "def jugar():\n",
    "    board = crear_tablero()\n",
    "    winner = 0\n",
    "    while winner == 0:\n",
    "        for player in [1, 2]:\n",
    "            colocar_aleatoriamente(board, player)\n",
    "            winner = evaluar(board)\n",
    "            if winner != 0:\n",
    "                break\n",
    "    return winner\n",
    "\n",
    "\n",
    "results = [jugar() for i in range(1000)]\n",
    "results.count(1)"
   ],
   "metadata": {
    "collapsed": false,
    "pycharm": {
     "name": "#%%\n"
    }
   }
  },
  {
   "cell_type": "markdown",
   "source": [
    "11 Modifica la estrategia de juego: juega 1000 veces pero haciendo que el jugador 1 siempre empiece poniendo en medio"
   ],
   "metadata": {
    "collapsed": false
   }
  },
  {
   "cell_type": "code",
   "execution_count": 142,
   "outputs": [
    {
     "data": {
      "text/plain": "716"
     },
     "execution_count": 142,
     "metadata": {},
     "output_type": "execute_result"
    }
   ],
   "source": [
    "random.seed(1)\n",
    "\n",
    "\n",
    "def juego_estrategico():\n",
    "    tablero, ganador = crear_tablero(), 0\n",
    "    tablero[1, 1] = 1\n",
    "    while ganador == 0:\n",
    "        for player in [2, 1]:\n",
    "            colocar_aleatoriamente(tablero, player)\n",
    "            ganador = evaluar(tablero)\n",
    "            if ganador != 0:\n",
    "                break\n",
    "    return ganador\n",
    "\n",
    "\n",
    "results = [juego_estrategico() for i in range(1000)]\n",
    "results.count(1)"
   ],
   "metadata": {
    "collapsed": false,
    "pycharm": {
     "name": "#%%\n"
    }
   }
  },
  {
   "cell_type": "markdown",
   "source": [
    "# Pandas\n",
    "Es una herramienta que faacilita el análisis y la manipulación de datos.\n",
    "Crea objetos de tipo Dataframe, los cuales estan formados por objetos de typo numpy array\n",
    "\n",
    "- Eficiencia\n",
    "- Indexación predeterminada\n",
    "- Carga desde archivo"
   ],
   "metadata": {
    "collapsed": false
   }
  },
  {
   "cell_type": "code",
   "execution_count": 150,
   "outputs": [],
   "source": [
    "import pandas as pd  # Por convenio se importa de esta manera"
   ],
   "metadata": {
    "collapsed": false,
    "pycharm": {
     "name": "#%%\n"
    }
   }
  },
  {
   "cell_type": "code",
   "execution_count": 151,
   "outputs": [
    {
     "name": "stdout",
     "output_type": "stream",
     "text": [
      "   0\n",
      "0  1\n",
      "1  2\n",
      "2  3\n",
      "3  4\n",
      "4  5\n"
     ]
    }
   ],
   "source": [
    "# Creamos un dataframe a partir de un array, vemos que se le aplica un index automáticamente que empieza en 0 tanto en fila como columna\n",
    "data = [1, 2, 3, 4, 5]\n",
    "df = pd.DataFrame(data)\n",
    "print(df)"
   ],
   "metadata": {
    "collapsed": false,
    "pycharm": {
     "name": "#%%\n"
    }
   }
  },
  {
   "cell_type": "code",
   "execution_count": 152,
   "outputs": [
    {
     "name": "stdout",
     "output_type": "stream",
     "text": [
      "     Name  Age\n",
      "0    Alex   10\n",
      "1     Bob   12\n",
      "2  Clarke   13\n"
     ]
    }
   ],
   "source": [
    "# Creamos dos columnas a la vez introduciendo el contenido de las filas y le damos nombre a las columnas\n",
    "data = [['Alex', 10], ['Bob', 12], ['Clarke', 13]]\n",
    "df = pd.DataFrame(data, columns=['Name', 'Age'])\n",
    "print(df)"
   ],
   "metadata": {
    "collapsed": false,
    "pycharm": {
     "name": "#%%\n"
    }
   }
  },
  {
   "cell_type": "code",
   "execution_count": 153,
   "outputs": [
    {
     "name": "stdout",
     "output_type": "stream",
     "text": [
      "    Name  Age\n",
      "0    Tom   28\n",
      "1   Jack   34\n",
      "2  Steve   29\n",
      "3  Ricky   42\n"
     ]
    }
   ],
   "source": [
    "# Creamos un dataframe a partir de un diccionario\n",
    "data = {'Name': ['Tom', 'Jack', 'Steve', 'Ricky'], 'Age': [28, 34, 29, 42]}\n",
    "df = pd.DataFrame(data)\n",
    "print(df)"
   ],
   "metadata": {
    "collapsed": false,
    "pycharm": {
     "name": "#%%\n"
    }
   }
  },
  {
   "cell_type": "code",
   "execution_count": 154,
   "outputs": [
    {
     "name": "stdout",
     "output_type": "stream",
     "text": [
      "        Name  Age\n",
      "rank1    Tom   28\n",
      "rank2   Jack   34\n",
      "rank3  Steve   29\n",
      "rank4  Ricky   42\n"
     ]
    }
   ],
   "source": [
    "# Creamos un dataframe a partir de un diccionario y damos un nombre a las filas\n",
    "data = {'Name': ['Tom', 'Jack', 'Steve', 'Ricky'], 'Age': [28, 34, 29, 42]}\n",
    "df = pd.DataFrame(data, index=['rank1', 'rank2', 'rank3', 'rank4'])\n",
    "print(df)"
   ],
   "metadata": {
    "collapsed": false,
    "pycharm": {
     "name": "#%%\n"
    }
   }
  },
  {
   "cell_type": "code",
   "execution_count": 157,
   "outputs": [
    {
     "name": "stdout",
     "output_type": "stream",
     "text": [
      "   one  two\n",
      "a  1.0    1\n",
      "b  2.0    2\n",
      "c  3.0    3\n",
      "d  NaN    4\n"
     ]
    }
   ],
   "source": [
    "# Creamos dos series y las juntamos en un diccionario, automáticamente se rellenan las columnas vacias con NaN\n",
    "d = {'one': pd.Series([1, 2, 3], index=['a', 'b', 'c']),\n",
    "     'two': pd.Series([1, 2, 3, 4], index=['a', 'b', 'c', 'd'])}\n",
    "\n",
    "df = pd.DataFrame(d)\n",
    "print(df)"
   ],
   "metadata": {
    "collapsed": false,
    "pycharm": {
     "name": "#%%\n"
    }
   }
  },
  {
   "cell_type": "code",
   "execution_count": 158,
   "outputs": [
    {
     "name": "stdout",
     "output_type": "stream",
     "text": [
      "Adding a new column by passing as Series:\n",
      "   one  two  three\n",
      "a  1.0    1   10.0\n",
      "b  2.0    2   20.0\n",
      "c  3.0    3   30.0\n",
      "d  NaN    4    NaN\n"
     ]
    }
   ],
   "source": [
    "# Añadimos una columna a un dataframe creado\n",
    "print(\"Adding a new column by passing as Series:\")\n",
    "df['three'] = pd.Series([10, 20, 30], index=['a', 'b', 'c'])\n",
    "print(df)"
   ],
   "metadata": {
    "collapsed": false,
    "pycharm": {
     "name": "#%%\n"
    }
   }
  },
  {
   "cell_type": "code",
   "execution_count": 160,
   "outputs": [
    {
     "name": "stdout",
     "output_type": "stream",
     "text": [
      "   one  two  three  four\n",
      "a  1.0    1   10.0  11.0\n",
      "b  2.0    2   20.0  22.0\n",
      "c  3.0    3   30.0  33.0\n",
      "d  NaN    4    NaN   NaN\n"
     ]
    }
   ],
   "source": [
    "# Añadimos una columna a un dataframe creado a partir del contenido de otras\n",
    "df['four'] = df['one'] + df['three']\n",
    "print(df)"
   ],
   "metadata": {
    "collapsed": false,
    "pycharm": {
     "name": "#%%\n"
    }
   }
  },
  {
   "cell_type": "code",
   "execution_count": 161,
   "outputs": [
    {
     "name": "stdout",
     "output_type": "stream",
     "text": [
      "one    2.0\n",
      "two    2.0\n",
      "Name: b, dtype: float64\n"
     ]
    }
   ],
   "source": [
    "# Obtenemos la fila b\n",
    "d = {'one': pd.Series([1, 2, 3], index=['a', 'b', 'c']),\n",
    "     'two': pd.Series([1, 2, 3, 4], index=['a', 'b', 'c', 'd'])}\n",
    "\n",
    "df = pd.DataFrame(d)\n",
    "print(df.loc['b'])"
   ],
   "metadata": {
    "collapsed": false,
    "pycharm": {
     "name": "#%%\n"
    }
   }
  },
  {
   "cell_type": "code",
   "execution_count": 162,
   "outputs": [
    {
     "name": "stdout",
     "output_type": "stream",
     "text": [
      "one    3.0\n",
      "two    3.0\n",
      "Name: c, dtype: float64\n"
     ]
    }
   ],
   "source": [
    "# Obtenemos la fila en la posicion 2\n",
    "d = {'one': pd.Series([1, 2, 3], index=['a', 'b', 'c']),\n",
    "     'two': pd.Series([1, 2, 3, 4], index=['a', 'b', 'c', 'd'])}\n",
    "\n",
    "df = pd.DataFrame(d)\n",
    "print(df.iloc[2])"
   ],
   "metadata": {
    "collapsed": false,
    "pycharm": {
     "name": "#%%\n"
    }
   }
  },
  {
   "cell_type": "code",
   "execution_count": 163,
   "outputs": [
    {
     "name": "stdout",
     "output_type": "stream",
     "text": [
      "   a  b\n",
      "0  1  2\n",
      "1  3  4\n",
      "0  5  6\n",
      "1  7  8\n"
     ]
    },
    {
     "name": "stderr",
     "output_type": "stream",
     "text": [
      "C:\\Users\\avbar\\AppData\\Local\\Temp\\ipykernel_15944\\1316483151.py:4: FutureWarning: The frame.append method is deprecated and will be removed from pandas in a future version. Use pandas.concat instead.\n",
      "  df = df.append(df2)\n"
     ]
    }
   ],
   "source": [
    "# Concatenamos dos dataframes (Ojo con el index)\n",
    "df = pd.DataFrame([[1, 2], [3, 4]], columns=['a', 'b'])\n",
    "df2 = pd.DataFrame([[5, 6], [7, 8]], columns=['a', 'b'])\n",
    "\n",
    "df = df.append(df2)\n",
    "print(df)"
   ],
   "metadata": {
    "collapsed": false,
    "pycharm": {
     "name": "#%%\n"
    }
   }
  },
  {
   "cell_type": "code",
   "execution_count": 166,
   "outputs": [
    {
     "name": "stdout",
     "output_type": "stream",
     "text": [
      "Deleting another column using POP function:\n",
      "   a\n",
      "0  1\n",
      "1  3\n",
      "0  5\n",
      "1  7\n"
     ]
    }
   ],
   "source": [
    "# Eliminación de una columna\n",
    "print(\"Deleting another column using POP function:\")\n",
    "df.pop('b')\n",
    "print(df)"
   ],
   "metadata": {
    "collapsed": false,
    "pycharm": {
     "name": "#%%\n"
    }
   }
  },
  {
   "cell_type": "code",
   "execution_count": 167,
   "outputs": [
    {
     "data": {
      "text/plain": "   a\n0  1\n1  3\n0  5\n1  7",
      "text/html": "<div>\n<style scoped>\n    .dataframe tbody tr th:only-of-type {\n        vertical-align: middle;\n    }\n\n    .dataframe tbody tr th {\n        vertical-align: top;\n    }\n\n    .dataframe thead th {\n        text-align: right;\n    }\n</style>\n<table border=\"1\" class=\"dataframe\">\n  <thead>\n    <tr style=\"text-align: right;\">\n      <th></th>\n      <th>a</th>\n    </tr>\n  </thead>\n  <tbody>\n    <tr>\n      <th>0</th>\n      <td>1</td>\n    </tr>\n    <tr>\n      <th>1</th>\n      <td>3</td>\n    </tr>\n    <tr>\n      <th>0</th>\n      <td>5</td>\n    </tr>\n    <tr>\n      <th>1</th>\n      <td>7</td>\n    </tr>\n  </tbody>\n</table>\n</div>"
     },
     "execution_count": 167,
     "metadata": {},
     "output_type": "execute_result"
    }
   ],
   "source": [
    "df"
   ],
   "metadata": {
    "collapsed": false,
    "pycharm": {
     "name": "#%%\n"
    }
   }
  },
  {
   "cell_type": "markdown",
   "source": [
    "# [Scipy](https://scipy.org/)\n",
    "Es una biblioteca de herramientas y algoritmos matemáticos que permiten:\n",
    "\n",
    "- Optimización\n",
    "- Algebra lineal\n",
    "- Interpoñación\n",
    "- Procesamiento de señal\n",
    "- Transformadas de Fourier\n",
    "- etc"
   ],
   "metadata": {
    "collapsed": false
   }
  },
  {
   "cell_type": "code",
   "execution_count": 146,
   "outputs": [],
   "source": [
    "from scipy.interpolate import interp1d\n",
    "import numpy as np\n",
    "import matplotlib.pyplot as plt"
   ],
   "metadata": {
    "collapsed": false,
    "pycharm": {
     "name": "#%%\n"
    }
   }
  },
  {
   "cell_type": "code",
   "execution_count": 148,
   "outputs": [
    {
     "data": {
      "text/plain": "[<matplotlib.lines.Line2D at 0x172fec808b0>,\n <matplotlib.lines.Line2D at 0x172fec80880>,\n <matplotlib.lines.Line2D at 0x172fec80af0>]"
     },
     "execution_count": 148,
     "metadata": {},
     "output_type": "execute_result"
    },
    {
     "data": {
      "text/plain": "<Figure size 432x288 with 1 Axes>",
      "image/png": "[encoded data removed]"
     },
     "metadata": {
      "needs_background": "light"
     },
     "output_type": "display_data"
    }
   ],
   "source": [
    "# Ejemplo de interpolación con scipy\n",
    "x = np.linspace(0, 10, num=11, endpoint=True)\n",
    "\n",
    "y = np.cos(-x ** 2 / 9.0)\n",
    "\n",
    "f = interp1d(x, y)\n",
    "\n",
    "f2 = interp1d(x, y, kind='cubic')\n",
    "\n",
    "xnew = np.linspace(0, 10, num=41, endpoint=True)\n",
    "plt.legend(['data', 'linear', 'cubic'], loc='best')\n",
    "plt.plot(x, y, 'o', xnew, f(xnew), '-', xnew, f2(xnew), '--')"
   ],
   "metadata": {
    "collapsed": false,
    "pycharm": {
     "name": "#%%\n"
    }
   }
  }
 ],
 "metadata": {
  "kernelspec": {
   "display_name": "Python 3 (ipykernel)",
   "language": "python",
   "name": "python3"
  },
  "language_info": {
   "codemirror_mode": {
    "name": "ipython",
    "version": 3
   },
   "file_extension": ".py",
   "mimetype": "text/x-python",
   "name": "python",
   "nbconvert_exporter": "python",
   "pygments_lexer": "ipython3",
   "version": "3.9.10"
  }
 },
 "nbformat": 4,
 "nbformat_minor": 2
}